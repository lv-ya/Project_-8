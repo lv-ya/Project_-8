{
 "cells": [
  {
   "cell_type": "markdown",
   "metadata": {
    "_cell_guid": "b1076dfc-b9ad-4769-8c92-a6c4dae69d19",
    "_uuid": "8f2839f25d086af736a60e9eeb907d3b93b6e0e5",
    "execution": {
     "iopub.execute_input": "2021-12-18T21:33:42.754616Z",
     "iopub.status.busy": "2021-12-18T21:33:42.753542Z",
     "iopub.status.idle": "2021-12-18T21:33:51.891151Z",
     "shell.execute_reply": "2021-12-18T21:33:51.890163Z",
     "shell.execute_reply.started": "2021-12-18T21:33:42.754479Z"
    },
    "jupyter": {
     "outputs_hidden": true
    }
   },
   "source": [
    "## [SF-DST] Car Price prediction Part2  \n",
    "    Файлы входных данных доступны только для чтения в каталоге \"../input/\".\n",
    "Например, при его запуске (щелкнув по кнопке «Выполнить» или нажав Shift + Enter) будут перечислены все файлы во входном каталоге.\n",
    "\n",
    "import os\n",
    "for dirname, _, filenames in os.walk('/kaggle/input'):\n",
    "    for filename in filenames:\n",
    "        print(os.path.join(dirname, filename))\n",
    "\n",
    "Вы можете записать до 20 ГБ в текущий каталог (/ kaggle / working /), который будет сохранен в виде вывода при создании версии с помощью «Сохранить и запустить все».\n",
    "Вы также можете записывать временные файлы в / kaggle / temp /, но они не будут сохранены вне текущего сеанса."
   ]
  },
  {
   "cell_type": "code",
   "execution_count": 1,
   "metadata": {
    "execution": {
     "iopub.execute_input": "2022-01-11T22:03:52.377293Z",
     "iopub.status.busy": "2022-01-11T22:03:52.376666Z",
     "iopub.status.idle": "2022-01-11T22:03:52.396974Z",
     "shell.execute_reply": "2022-01-11T22:03:52.396228Z",
     "shell.execute_reply.started": "2022-01-11T22:03:52.377203Z"
    }
   },
   "outputs": [],
   "source": [
    "# !pip install -q tensorflow==2.3"
   ]
  },
  {
   "cell_type": "code",
   "execution_count": 2,
   "metadata": {
    "execution": {
     "iopub.execute_input": "2022-01-11T22:03:52.399166Z",
     "iopub.status.busy": "2022-01-11T22:03:52.398893Z",
     "iopub.status.idle": "2022-01-11T22:04:01.587691Z",
     "shell.execute_reply": "2022-01-11T22:04:01.586662Z",
     "shell.execute_reply.started": "2022-01-11T22:03:52.399128Z"
    }
   },
   "outputs": [],
   "source": [
    "#аугментации изображений\n",
    "!pip install albumentations -q"
   ]
  },
  {
   "cell_type": "code",
   "execution_count": 3,
   "metadata": {
    "execution": {
     "iopub.execute_input": "2022-01-11T22:04:01.589721Z",
     "iopub.status.busy": "2022-01-11T22:04:01.589422Z",
     "iopub.status.idle": "2022-01-11T22:04:08.864548Z",
     "shell.execute_reply": "2022-01-11T22:04:08.863828Z",
     "shell.execute_reply.started": "2022-01-11T22:04:01.589664Z"
    }
   },
   "outputs": [],
   "source": [
    "# В этой среде Python 3 установлено множество полезных аналитических библиотек.\n",
    "# Он определяется в образе Docker kaggle/python: https://github.com/kaggle/docker-python\n",
    "# Например, вот несколько полезных пакетов для загрузки\n",
    "\n",
    "import numpy as np # linear algebra\n",
    "import pandas as pd # data processing, CSV file I/O (e.g. pd.read_csv)\n",
    "import random\n",
    "import os\n",
    "import sys\n",
    "import PIL\n",
    "import cv2\n",
    "import re\n",
    "\n",
    "from catboost import CatBoostRegressor\n",
    "from sklearn.model_selection import train_test_split\n",
    "from sklearn.preprocessing import MinMaxScaler,RobustScaler\n",
    "import seaborn as sns\n",
    "\n",
    "# # keras\n",
    "import tensorflow as tf\n",
    "import tensorflow.keras.layers as L\n",
    "from tensorflow.keras.models import Model, Sequential\n",
    "from tensorflow.keras.preprocessing import sequence\n",
    "from tensorflow.keras.callbacks import ModelCheckpoint, EarlyStopping\n",
    "\n",
    "from tensorflow.keras.preprocessing.text import Tokenizer\n",
    "from tensorflow.keras.preprocessing import sequence\n",
    "\n",
    "import albumentations\n",
    "\n",
    "# plt\n",
    "import matplotlib.pyplot as plt\n",
    "\n",
    "# увеличим дефолтный размер графиков\n",
    "from pylab import rcParams\n",
    "rcParams['figure.figsize'] = 10, 5\n",
    "\n",
    "#графики в svg выглядят более четкими\n",
    "%config InlineBackend.figure_format = 'svg' \n",
    "%matplotlib inline"
   ]
  },
  {
   "cell_type": "code",
   "execution_count": 4,
   "metadata": {
    "execution": {
     "iopub.execute_input": "2022-01-11T22:04:08.866091Z",
     "iopub.status.busy": "2022-01-11T22:04:08.865855Z",
     "iopub.status.idle": "2022-01-11T22:04:08.870858Z",
     "shell.execute_reply": "2022-01-11T22:04:08.870180Z",
     "shell.execute_reply.started": "2022-01-11T22:04:08.866060Z"
    }
   },
   "outputs": [],
   "source": [
    "print('Python       :', sys.version.split('\\n')[0])\n",
    "print('Numpy        :', np.__version__)\n",
    "print('Tensorflow   :', tf.__version__)"
   ]
  },
  {
   "cell_type": "code",
   "execution_count": 5,
   "metadata": {
    "execution": {
     "iopub.execute_input": "2022-01-11T22:04:08.873179Z",
     "iopub.status.busy": "2022-01-11T22:04:08.872839Z",
     "iopub.status.idle": "2022-01-11T22:04:08.892173Z",
     "shell.execute_reply": "2022-01-11T22:04:08.891343Z",
     "shell.execute_reply.started": "2022-01-11T22:04:08.873148Z"
    }
   },
   "outputs": [],
   "source": [
    "def mape(y_true, y_pred):\n",
    "    return np.mean(np.abs((y_pred-y_true)/y_true))\n",
    "# всегда фиксируйте RANDOM_SEED, чтобы ваши эксперименты были воспроизводимы!\n",
    "RANDOM_SEED = 42\n",
    "np.random.seed(RANDOM_SEED)"
   ]
  },
  {
   "cell_type": "code",
   "execution_count": 6,
   "metadata": {
    "execution": {
     "iopub.execute_input": "2022-01-11T22:04:08.895380Z",
     "iopub.status.busy": "2022-01-11T22:04:08.894919Z",
     "iopub.status.idle": "2022-01-11T22:04:11.885763Z",
     "shell.execute_reply": "2022-01-11T22:04:11.884855Z",
     "shell.execute_reply.started": "2022-01-11T22:04:08.895340Z"
    }
   },
   "outputs": [],
   "source": [
    "!pip freeze > requirements.txt"
   ]
  },
  {
   "cell_type": "markdown",
   "metadata": {},
   "source": [
    "* ### Описание признаков в тестовом датасете:\n",
    "* bodyType - тип кузова\n",
    "* brand - марка автомобиля\n",
    "* color - цвет автомобиля\n",
    "* description - дополнительное описание автомобиля / объявления\n",
    "* engineDisplacement - объем двигателя\n",
    "* enginePower - мощность двигателя\n",
    "* fuelType - тип топлива\n",
    "* mileage - пробег\n",
    "* modelDate - год выпуска модели\n",
    "* model_info - информация о модели в оригинале и по-русски\n",
    "* name - означение объема и типа двигателя, мощность в лошадиных силах\n",
    "* numberOfDoors - кол-во дверей\n",
    "* parsing_unixtime - дата парсинга данных\n",
    "* price - цена\n",
    "* productionDate - год производства\n",
    "* sell_id - код (ID) продавца\n",
    "* vehicleConfiguration -\n",
    "* vehicleTransmission - тип коробки передачи\n",
    "* Владельцы - кол-во владельцев\n",
    "* Владение - срок владения\n",
    "* ПТС - тип документа: оригинал или дупликат\n",
    "* Привод - тип привода\n",
    "* Руль - размещение руля"
   ]
  },
  {
   "cell_type": "markdown",
   "metadata": {},
   "source": [
    "## DATA"
   ]
  },
  {
   "cell_type": "markdown",
   "metadata": {},
   "source": [
    "Посмотрим на типы признаков:\n",
    "\n",
    "* bodyType - категориальный\n",
    "* brand - категориальный\n",
    "* color - категориальный\n",
    "* description - текстовый\n",
    "* engineDisplacement - числовой, представленный как текст\n",
    "* enginePower - числовой, представленный как текст\n",
    "* fuelType - категориальный\n",
    "* mileage - числовой\n",
    "* modelDate - числовой\n",
    "* model_info - категориальный\n",
    "* name - категориальный, желательно сократить размерность\n",
    "* numberOfDoors - категориальный\n",
    "* price - числовой, целевой\n",
    "* productionDate - числовой\n",
    "* sell_id - изображение (файл доступен по адресу, основанному на sell_id)\n",
    "* vehicleConfiguration - не используется (комбинация других столбцов)\n",
    "* vehicleTransmission - категориальный\n",
    "* Владельцы - категориальный\n",
    "* Владение - числовой, представленный как текст\n",
    "* ПТС - категориальный\n",
    "* Привод - категориальный\n",
    "* Руль - категориальный"
   ]
  },
  {
   "cell_type": "code",
   "execution_count": 7,
   "metadata": {
    "execution": {
     "iopub.execute_input": "2022-01-11T22:04:11.887869Z",
     "iopub.status.busy": "2022-01-11T22:04:11.887576Z",
     "iopub.status.idle": "2022-01-11T22:04:12.390176Z",
     "shell.execute_reply": "2022-01-11T22:04:12.389455Z",
     "shell.execute_reply.started": "2022-01-11T22:04:11.887830Z"
    }
   },
   "outputs": [],
   "source": [
    "DATA_DIR = '../input/sf-dst-car-price-prediction-part2/'\n",
    "train = pd.read_csv(DATA_DIR + 'train.csv')\n",
    "test = pd.read_csv(DATA_DIR + 'test.csv')\n",
    "sample_submission = pd.read_csv(DATA_DIR + 'sample_submission.csv')"
   ]
  },
  {
   "cell_type": "code",
   "execution_count": 8,
   "metadata": {
    "execution": {
     "iopub.execute_input": "2022-01-11T22:04:12.391616Z",
     "iopub.status.busy": "2022-01-11T22:04:12.391364Z",
     "iopub.status.idle": "2022-01-11T22:04:12.396470Z",
     "shell.execute_reply": "2022-01-11T22:04:12.395616Z",
     "shell.execute_reply.started": "2022-01-11T22:04:12.391583Z"
    }
   },
   "outputs": [],
   "source": [
    "# pd.set_option('display.max_columns', None)"
   ]
  },
  {
   "cell_type": "code",
   "execution_count": 9,
   "metadata": {
    "_kg_hide-output": true,
    "execution": {
     "iopub.execute_input": "2022-01-11T22:04:12.398538Z",
     "iopub.status.busy": "2022-01-11T22:04:12.398108Z",
     "iopub.status.idle": "2022-01-11T22:04:12.446918Z",
     "shell.execute_reply": "2022-01-11T22:04:12.445319Z",
     "shell.execute_reply.started": "2022-01-11T22:04:12.398466Z"
    }
   },
   "outputs": [],
   "source": [
    "train.info()\n",
    "test.info()"
   ]
  },
  {
   "cell_type": "code",
   "execution_count": 10,
   "metadata": {
    "_kg_hide-input": false,
    "execution": {
     "iopub.execute_input": "2022-01-11T22:04:12.448424Z",
     "iopub.status.busy": "2022-01-11T22:04:12.448180Z",
     "iopub.status.idle": "2022-01-11T22:04:12.453264Z",
     "shell.execute_reply": "2022-01-11T22:04:12.452309Z",
     "shell.execute_reply.started": "2022-01-11T22:04:12.448390Z"
    }
   },
   "outputs": [],
   "source": [
    "# train.nunique()"
   ]
  },
  {
   "cell_type": "markdown",
   "metadata": {},
   "source": [
    "## Model 1: Создадим \"наивную\" модель\n",
    "Эта модель будет предсказывать среднюю цену по модели и году выпуска. C ней будем сравнивать другие модели."
   ]
  },
  {
   "cell_type": "code",
   "execution_count": 11,
   "metadata": {
    "execution": {
     "iopub.execute_input": "2022-01-11T22:04:12.456552Z",
     "iopub.status.busy": "2022-01-11T22:04:12.455730Z",
     "iopub.status.idle": "2022-01-11T22:04:15.360717Z",
     "shell.execute_reply": "2022-01-11T22:04:15.359915Z",
     "shell.execute_reply.started": "2022-01-11T22:04:12.456504Z"
    }
   },
   "outputs": [],
   "source": [
    "# split данных\n",
    "data_train, data_test = train_test_split(train, test_size=0.15, shuffle=True, random_state=RANDOM_SEED)\n",
    "\n",
    "predicts = []\n",
    "for index, row in pd.DataFrame(data_test[['model_info', 'productionDate']]).iterrows():\n",
    "    query = f\"model_info == '{row[0]}' and productionDate == {row[1]}\"\n",
    "    predicts.append(data_train.query(query)['price'].median())\n",
    "    \n",
    "# заполним не найденные совпадения\n",
    "predicts = pd.DataFrame(predicts)\n",
    "predicts = predicts.fillna(predicts.median())\n",
    "\n",
    "# округлим\n",
    "predicts = (predicts // 1000) * 1000\n",
    "\n",
    "#оцениваем точность\n",
    "print(f\"Точность наивной модели по метрике MAPE: {(mape(data_test['price'], predicts.values[:, 0]))*100:0.2f}%\")"
   ]
  },
  {
   "cell_type": "markdown",
   "metadata": {},
   "source": [
    "В принципе можно вместо median() взять mean()"
   ]
  },
  {
   "cell_type": "markdown",
   "metadata": {},
   "source": [
    "# EDA"
   ]
  },
  {
   "cell_type": "markdown",
   "metadata": {},
   "source": [
    "#### Для корректной обработки признаков объединяем трейн и тест в один датасет"
   ]
  },
  {
   "cell_type": "code",
   "execution_count": 12,
   "metadata": {
    "execution": {
     "iopub.execute_input": "2022-01-11T22:04:15.362953Z",
     "iopub.status.busy": "2022-01-11T22:04:15.361951Z",
     "iopub.status.idle": "2022-01-11T22:04:15.369695Z",
     "shell.execute_reply": "2022-01-11T22:04:15.368839Z",
     "shell.execute_reply.started": "2022-01-11T22:04:15.362911Z"
    }
   },
   "outputs": [],
   "source": [
    "train['sample'] = 1 # помечаем где у нас трейн\n",
    "test['sample'] = 0 # помечаем где у нас тест\n",
    "test['price'] = 0 # в тесте у нас нет значения price, мы его должны предсказать, поэтому пока просто заполняем нулями"
   ]
  },
  {
   "cell_type": "code",
   "execution_count": 13,
   "metadata": {
    "execution": {
     "iopub.execute_input": "2022-01-11T22:04:15.372050Z",
     "iopub.status.busy": "2022-01-11T22:04:15.371563Z",
     "iopub.status.idle": "2022-01-11T22:04:15.396222Z",
     "shell.execute_reply": "2022-01-11T22:04:15.395441Z",
     "shell.execute_reply.started": "2022-01-11T22:04:15.372007Z"
    }
   },
   "outputs": [],
   "source": [
    "data = test.append(train, sort=False).reset_index(drop=True) # объединяем\n",
    "print(train.shape, test.shape, data.shape)"
   ]
  },
  {
   "cell_type": "code",
   "execution_count": 14,
   "metadata": {
    "execution": {
     "iopub.execute_input": "2022-01-11T22:04:15.401129Z",
     "iopub.status.busy": "2022-01-11T22:04:15.400902Z",
     "iopub.status.idle": "2022-01-11T22:04:15.430986Z",
     "shell.execute_reply": "2022-01-11T22:04:15.430159Z",
     "shell.execute_reply.started": "2022-01-11T22:04:15.401102Z"
    }
   },
   "outputs": [],
   "source": [
    "data.info()"
   ]
  },
  {
   "cell_type": "markdown",
   "metadata": {},
   "source": [
    "### Проведем быстрый анализ данных для того, чтобы понимать характеристики признаков."
   ]
  },
  {
   "cell_type": "code",
   "execution_count": 15,
   "metadata": {
    "execution": {
     "iopub.execute_input": "2022-01-11T22:04:15.433232Z",
     "iopub.status.busy": "2022-01-11T22:04:15.432754Z",
     "iopub.status.idle": "2022-01-11T22:04:15.437797Z",
     "shell.execute_reply": "2022-01-11T22:04:15.436751Z",
     "shell.execute_reply.started": "2022-01-11T22:04:15.433188Z"
    }
   },
   "outputs": [],
   "source": [
    "# используем модуль для быстрого первичного анализа данных\n",
    "# import pandas_profiling\n",
    "# pandas_profiling.ProfileReport(data)"
   ]
  },
  {
   "cell_type": "markdown",
   "metadata": {},
   "source": [
    "### Проведем подробный анализ признаков."
   ]
  },
  {
   "cell_type": "markdown",
   "metadata": {},
   "source": [
    "#### Выделяем все числовые признаки и проведем первичную обработку"
   ]
  },
  {
   "cell_type": "code",
   "execution_count": 16,
   "metadata": {
    "execution": {
     "iopub.execute_input": "2022-01-11T22:04:15.440596Z",
     "iopub.status.busy": "2022-01-11T22:04:15.439536Z",
     "iopub.status.idle": "2022-01-11T22:04:15.455005Z",
     "shell.execute_reply": "2022-01-11T22:04:15.454008Z",
     "shell.execute_reply.started": "2022-01-11T22:04:15.440552Z"
    }
   },
   "outputs": [],
   "source": [
    "num_cols = data.select_dtypes(include=[np.number]).columns\n",
    "# num_cols = data._get_numeric_data()\n",
    "num_cols"
   ]
  },
  {
   "cell_type": "code",
   "execution_count": 17,
   "metadata": {
    "execution": {
     "iopub.execute_input": "2022-01-11T22:04:15.456890Z",
     "iopub.status.busy": "2022-01-11T22:04:15.456511Z",
     "iopub.status.idle": "2022-01-11T22:04:15.465945Z",
     "shell.execute_reply": "2022-01-11T22:04:15.465019Z",
     "shell.execute_reply.started": "2022-01-11T22:04:15.456850Z"
    }
   },
   "outputs": [],
   "source": [
    "\"\"\"\n",
    "#посмотрим, как выглядят распределения числовых признаков\n",
    "def visualize_distributions(titles_values_dict):\n",
    "    columns = min(3, len(titles_values_dict))\n",
    "    rows = (len(titles_values_dict) - 1) // columns + 1\n",
    "    fig = plt.figure(figsize = (columns * 6, rows * 4))\n",
    "    for i, (title, values) in enumerate(titles_values_dict.items()):\n",
    "        hist, bins = np.histogram(values, bins = 20)\n",
    "        ax = fig.add_subplot(rows, columns, i + 1)\n",
    "        ax.bar(bins[:-1], hist, width = (bins[1] - bins[0]) * 0.7)\n",
    "        ax.set_title(title)\n",
    "    plt.show()\n",
    "\n",
    "visualize_distributions({\n",
    "    'mileage': train['mileage'].dropna(),\n",
    "    'modelDate': train['modelDate'].dropna(),\n",
    "    'productionDate': train['productionDate'].dropna(),\n",
    "})\n",
    "\"\"\""
   ]
  },
  {
   "cell_type": "markdown",
   "metadata": {},
   "source": [
    "Эти числовые данные требуют логарифмирования, а затем нормироваия."
   ]
  },
  {
   "cell_type": "code",
   "execution_count": 18,
   "metadata": {
    "execution": {
     "iopub.execute_input": "2022-01-11T22:04:15.469011Z",
     "iopub.status.busy": "2022-01-11T22:04:15.467565Z",
     "iopub.status.idle": "2022-01-11T22:04:15.479093Z",
     "shell.execute_reply": "2022-01-11T22:04:15.478300Z",
     "shell.execute_reply.started": "2022-01-11T22:04:15.468972Z"
    }
   },
   "outputs": [],
   "source": [
    "data['mileage'].isna().sum()"
   ]
  },
  {
   "cell_type": "code",
   "execution_count": 19,
   "metadata": {
    "execution": {
     "iopub.execute_input": "2022-01-11T22:04:15.481236Z",
     "iopub.status.busy": "2022-01-11T22:04:15.480767Z",
     "iopub.status.idle": "2022-01-11T22:04:15.487501Z",
     "shell.execute_reply": "2022-01-11T22:04:15.486627Z",
     "shell.execute_reply.started": "2022-01-11T22:04:15.481198Z"
    }
   },
   "outputs": [],
   "source": [
    "data['productionDate'].isna().sum()"
   ]
  },
  {
   "cell_type": "code",
   "execution_count": 20,
   "metadata": {
    "execution": {
     "iopub.execute_input": "2022-01-11T22:04:15.489929Z",
     "iopub.status.busy": "2022-01-11T22:04:15.489254Z",
     "iopub.status.idle": "2022-01-11T22:04:15.496475Z",
     "shell.execute_reply": "2022-01-11T22:04:15.495376Z",
     "shell.execute_reply.started": "2022-01-11T22:04:15.489893Z"
    }
   },
   "outputs": [],
   "source": [
    "\"\"\"\n",
    "# Посмотрим на распределение целевой переменной:\n",
    "plt.figure(figsize=(15, 3))\n",
    "plt.subplot(1,2,1)\n",
    "plt.title(f\"Распределение {'price'}\")\n",
    "sns.distplot(data[data['sample'] == 1]['price'], bins=50)\n",
    "\n",
    "plt.subplot(1,2,2)\n",
    "sns.boxplot(data['price'])\n",
    "plt.xlabel('Price')\n",
    "plt.title(f\"Боксплот {'price'}\", fontsize=15)\n",
    "plt.show()\n",
    "# data.price.describe()\n",
    "\"\"\""
   ]
  },
  {
   "cell_type": "code",
   "execution_count": 21,
   "metadata": {
    "execution": {
     "iopub.execute_input": "2022-01-11T22:04:15.498732Z",
     "iopub.status.busy": "2022-01-11T22:04:15.498332Z",
     "iopub.status.idle": "2022-01-11T22:04:15.509613Z",
     "shell.execute_reply": "2022-01-11T22:04:15.508837Z",
     "shell.execute_reply.started": "2022-01-11T22:04:15.498697Z"
    }
   },
   "outputs": [],
   "source": [
    "\"\"\"\n",
    "plt.figure(figsize=(15, 3))\n",
    "plt.subplot(1,2,1)\n",
    "plt.title(f\"Распределение {'price'} после логарифмирования\")\n",
    "sns.distplot(np.log(data[data['sample'] == 1]['price']), bins=50)\n",
    "\n",
    "plt.subplot(1,2,2)\n",
    "sns.boxplot(np.log(data[data['sample'] == 1]['price']))\n",
    "plt.xlabel('Price')\n",
    "plt.title('Боксплот price после логарифмирования', fontsize=15)\n",
    "plt.show()\n",
    "\"\"\""
   ]
  },
  {
   "cell_type": "code",
   "execution_count": 22,
   "metadata": {
    "execution": {
     "iopub.execute_input": "2022-01-11T22:04:15.511599Z",
     "iopub.status.busy": "2022-01-11T22:04:15.511294Z",
     "iopub.status.idle": "2022-01-11T22:04:15.536520Z",
     "shell.execute_reply": "2022-01-11T22:04:15.535766Z",
     "shell.execute_reply.started": "2022-01-11T22:04:15.511562Z"
    }
   },
   "outputs": [],
   "source": [
    "data[num_cols].corr()"
   ]
  },
  {
   "cell_type": "markdown",
   "metadata": {},
   "source": [
    "Корректировка num_cols:\n",
    "\n",
    "* sample - признак,характеризующий отношения данных к датасет train или test, удалить\n",
    "* numberOfDoors - количество дверей авто, перенесем к категориальным признакам,удалить\n",
    "* sell_id - код продавца, удалить\n",
    "* price - целевой признак, удалять\n",
    "* modelDate - сильно коррелируются с признаком productionDate,  удалять\n",
    "\n",
    "Оставшие числовые данные требуют логарифмирования, а затем нормироваия.\n",
    "\n",
    "В разделе PreProc Tabular Data введем новых признаков из числовых данных"
   ]
  },
  {
   "cell_type": "markdown",
   "metadata": {},
   "source": [
    "### Выделяем категориальные признаки и проведем предварительной обработки"
   ]
  },
  {
   "cell_type": "code",
   "execution_count": 23,
   "metadata": {
    "execution": {
     "iopub.execute_input": "2022-01-11T22:04:15.538518Z",
     "iopub.status.busy": "2022-01-11T22:04:15.538150Z",
     "iopub.status.idle": "2022-01-11T22:04:15.548568Z",
     "shell.execute_reply": "2022-01-11T22:04:15.547467Z",
     "shell.execute_reply.started": "2022-01-11T22:04:15.538480Z"
    }
   },
   "outputs": [],
   "source": [
    "cat_cols = data.select_dtypes(include=[object]).columns\n",
    "cat_cols"
   ]
  },
  {
   "cell_type": "code",
   "execution_count": 24,
   "metadata": {
    "execution": {
     "iopub.execute_input": "2022-01-11T22:04:15.550777Z",
     "iopub.status.busy": "2022-01-11T22:04:15.550385Z",
     "iopub.status.idle": "2022-01-11T22:04:15.558196Z",
     "shell.execute_reply": "2022-01-11T22:04:15.557264Z",
     "shell.execute_reply.started": "2022-01-11T22:04:15.550734Z"
    }
   },
   "outputs": [],
   "source": [
    "# data[cat_cols]"
   ]
  },
  {
   "cell_type": "code",
   "execution_count": 25,
   "metadata": {
    "execution": {
     "iopub.execute_input": "2022-01-11T22:04:15.560312Z",
     "iopub.status.busy": "2022-01-11T22:04:15.559597Z",
     "iopub.status.idle": "2022-01-11T22:04:15.594122Z",
     "shell.execute_reply": "2022-01-11T22:04:15.593409Z",
     "shell.execute_reply.started": "2022-01-11T22:04:15.560268Z"
    }
   },
   "outputs": [],
   "source": [
    "for col in cat_cols:\n",
    "    print(col, '  ', data[col].isna().sum())"
   ]
  },
  {
   "cell_type": "markdown",
   "metadata": {},
   "source": [
    "Признак \"bodyType\" имеет не однословную форму, необходимо привести к единой форме"
   ]
  },
  {
   "cell_type": "code",
   "execution_count": 26,
   "metadata": {
    "execution": {
     "iopub.execute_input": "2022-01-11T22:04:15.595840Z",
     "iopub.status.busy": "2022-01-11T22:04:15.595571Z",
     "iopub.status.idle": "2022-01-11T22:04:15.618898Z",
     "shell.execute_reply": "2022-01-11T22:04:15.618068Z",
     "shell.execute_reply.started": "2022-01-11T22:04:15.595801Z"
    }
   },
   "outputs": [],
   "source": [
    "data['bodyType'] = data['bodyType'].astype(str).apply(\n",
    "    lambda x: None if x.strip() == '' else x)\n",
    "data['bodyType'] = data.bodyType.apply(lambda x: x.split(' ')[0].lower())\n",
    "\n",
    "data.bodyType.value_counts()\n",
    "\n",
    "# data.bodyType.value_counts().plot.barh() "
   ]
  },
  {
   "cell_type": "code",
   "execution_count": 27,
   "metadata": {
    "execution": {
     "iopub.execute_input": "2022-01-11T22:04:15.621270Z",
     "iopub.status.busy": "2022-01-11T22:04:15.620899Z",
     "iopub.status.idle": "2022-01-11T22:04:15.630555Z",
     "shell.execute_reply": "2022-01-11T22:04:15.629495Z",
     "shell.execute_reply.started": "2022-01-11T22:04:15.621193Z"
    }
   },
   "outputs": [],
   "source": [
    "data.brand.unique()"
   ]
  },
  {
   "cell_type": "code",
   "execution_count": 28,
   "metadata": {
    "execution": {
     "iopub.execute_input": "2022-01-11T22:04:15.632771Z",
     "iopub.status.busy": "2022-01-11T22:04:15.632405Z",
     "iopub.status.idle": "2022-01-11T22:04:15.642452Z",
     "shell.execute_reply": "2022-01-11T22:04:15.640432Z",
     "shell.execute_reply.started": "2022-01-11T22:04:15.632733Z"
    }
   },
   "outputs": [],
   "source": [
    "data.color.unique()"
   ]
  },
  {
   "cell_type": "code",
   "execution_count": 29,
   "metadata": {
    "execution": {
     "iopub.execute_input": "2022-01-11T22:04:15.643842Z",
     "iopub.status.busy": "2022-01-11T22:04:15.643637Z",
     "iopub.status.idle": "2022-01-11T22:04:15.651238Z",
     "shell.execute_reply": "2022-01-11T22:04:15.650327Z",
     "shell.execute_reply.started": "2022-01-11T22:04:15.643817Z"
    }
   },
   "outputs": [],
   "source": [
    "data.engineDisplacement.unique()"
   ]
  },
  {
   "cell_type": "code",
   "execution_count": 30,
   "metadata": {
    "execution": {
     "iopub.execute_input": "2022-01-11T22:04:15.653669Z",
     "iopub.status.busy": "2022-01-11T22:04:15.652736Z",
     "iopub.status.idle": "2022-01-11T22:04:15.670143Z",
     "shell.execute_reply": "2022-01-11T22:04:15.669363Z",
     "shell.execute_reply.started": "2022-01-11T22:04:15.653630Z"
    }
   },
   "outputs": [],
   "source": [
    "# извлечём цифры\n",
    "data['engineDisplacement'] = data['engineDisplacement'].astype(str).apply(lambda x: x.split()[0])\n",
    "# заменим неопределённость на число\n",
    "data['engineDisplacement'] =  data['engineDisplacement'].replace('undefined', 0.01)\n",
    "# приведём всё к одному формату\n",
    "data['engineDisplacement'] = data['engineDisplacement'].astype(float)"
   ]
  },
  {
   "cell_type": "code",
   "execution_count": 31,
   "metadata": {
    "execution": {
     "iopub.execute_input": "2022-01-11T22:04:15.671708Z",
     "iopub.status.busy": "2022-01-11T22:04:15.671396Z",
     "iopub.status.idle": "2022-01-11T22:04:15.684917Z",
     "shell.execute_reply": "2022-01-11T22:04:15.683851Z",
     "shell.execute_reply.started": "2022-01-11T22:04:15.671671Z"
    }
   },
   "outputs": [],
   "source": [
    "data[['fuelType','name','vehicleConfiguration','engineDisplacement']][(\n",
    "            data.engineDisplacement == 'undefined LTR')]"
   ]
  },
  {
   "cell_type": "markdown",
   "metadata": {},
   "source": [
    "Эти  6 авто с не определенными литражами  являются авто с электро ('engineDisplacement'=='undefined LTR', \"fuelType\" == \"электро\")"
   ]
  },
  {
   "cell_type": "code",
   "execution_count": 32,
   "metadata": {
    "execution": {
     "iopub.execute_input": "2022-01-11T22:04:15.687245Z",
     "iopub.status.busy": "2022-01-11T22:04:15.686834Z",
     "iopub.status.idle": "2022-01-11T22:04:15.696004Z",
     "shell.execute_reply": "2022-01-11T22:04:15.695013Z",
     "shell.execute_reply.started": "2022-01-11T22:04:15.687195Z"
    }
   },
   "outputs": [],
   "source": [
    "data.enginePower.unique()"
   ]
  },
  {
   "cell_type": "code",
   "execution_count": 33,
   "metadata": {
    "execution": {
     "iopub.execute_input": "2022-01-11T22:04:15.698536Z",
     "iopub.status.busy": "2022-01-11T22:04:15.698193Z",
     "iopub.status.idle": "2022-01-11T22:04:15.710689Z",
     "shell.execute_reply": "2022-01-11T22:04:15.709940Z",
     "shell.execute_reply.started": "2022-01-11T22:04:15.698498Z"
    }
   },
   "outputs": [],
   "source": [
    "# Признак перевести в числовую. Предобработаем \"enginePower\"\n",
    "data['enginePower'] = data['enginePower'].apply(lambda x: x[:3]).astype('int')"
   ]
  },
  {
   "cell_type": "code",
   "execution_count": 34,
   "metadata": {
    "execution": {
     "iopub.execute_input": "2022-01-11T22:04:15.712431Z",
     "iopub.status.busy": "2022-01-11T22:04:15.712149Z",
     "iopub.status.idle": "2022-01-11T22:04:15.722247Z",
     "shell.execute_reply": "2022-01-11T22:04:15.721300Z",
     "shell.execute_reply.started": "2022-01-11T22:04:15.712393Z"
    }
   },
   "outputs": [],
   "source": [
    "data.fuelType.unique()"
   ]
  },
  {
   "cell_type": "code",
   "execution_count": 35,
   "metadata": {
    "execution": {
     "iopub.execute_input": "2022-01-11T22:04:15.724473Z",
     "iopub.status.busy": "2022-01-11T22:04:15.724047Z",
     "iopub.status.idle": "2022-01-11T22:04:15.734964Z",
     "shell.execute_reply": "2022-01-11T22:04:15.734082Z",
     "shell.execute_reply.started": "2022-01-11T22:04:15.724431Z"
    }
   },
   "outputs": [],
   "source": [
    "data.fuelType.value_counts()"
   ]
  },
  {
   "cell_type": "code",
   "execution_count": 36,
   "metadata": {
    "execution": {
     "iopub.execute_input": "2022-01-11T22:04:15.738597Z",
     "iopub.status.busy": "2022-01-11T22:04:15.736738Z",
     "iopub.status.idle": "2022-01-11T22:04:15.748429Z",
     "shell.execute_reply": "2022-01-11T22:04:15.747632Z",
     "shell.execute_reply.started": "2022-01-11T22:04:15.738557Z"
    }
   },
   "outputs": [],
   "source": [
    "data.model_info.unique()"
   ]
  },
  {
   "cell_type": "code",
   "execution_count": 37,
   "metadata": {
    "execution": {
     "iopub.execute_input": "2022-01-11T22:04:15.751365Z",
     "iopub.status.busy": "2022-01-11T22:04:15.751162Z",
     "iopub.status.idle": "2022-01-11T22:04:15.762707Z",
     "shell.execute_reply": "2022-01-11T22:04:15.761660Z",
     "shell.execute_reply.started": "2022-01-11T22:04:15.751340Z"
    }
   },
   "outputs": [],
   "source": [
    "data.model_info.value_counts()"
   ]
  },
  {
   "cell_type": "code",
   "execution_count": 38,
   "metadata": {
    "execution": {
     "iopub.execute_input": "2022-01-11T22:04:15.764494Z",
     "iopub.status.busy": "2022-01-11T22:04:15.764122Z",
     "iopub.status.idle": "2022-01-11T22:04:15.769691Z",
     "shell.execute_reply": "2022-01-11T22:04:15.768821Z",
     "shell.execute_reply.started": "2022-01-11T22:04:15.764409Z"
    }
   },
   "outputs": [],
   "source": [
    "# data.name.unique()"
   ]
  },
  {
   "cell_type": "markdown",
   "metadata": {},
   "source": [
    "В  признаке \"name\" имеющиеся информация есть в других признаках,значить надо удалять.\n",
    "В BaseLine предлагает из признака \"name\" выделить значения 'xDrive'."
   ]
  },
  {
   "cell_type": "code",
   "execution_count": 39,
   "metadata": {
    "execution": {
     "iopub.execute_input": "2022-01-11T22:04:15.771895Z",
     "iopub.status.busy": "2022-01-11T22:04:15.771439Z",
     "iopub.status.idle": "2022-01-11T22:04:15.785749Z",
     "shell.execute_reply": "2022-01-11T22:04:15.785100Z",
     "shell.execute_reply.started": "2022-01-11T22:04:15.771682Z"
    }
   },
   "outputs": [],
   "source": [
    "data['name_xDrive'] = data['name'].apply(lambda x: 1 if 'xDrive' in x else 0)"
   ]
  },
  {
   "cell_type": "code",
   "execution_count": 40,
   "metadata": {
    "execution": {
     "iopub.execute_input": "2022-01-11T22:04:15.788505Z",
     "iopub.status.busy": "2022-01-11T22:04:15.788317Z",
     "iopub.status.idle": "2022-01-11T22:04:15.792564Z",
     "shell.execute_reply": "2022-01-11T22:04:15.791730Z",
     "shell.execute_reply.started": "2022-01-11T22:04:15.788481Z"
    }
   },
   "outputs": [],
   "source": [
    "# data[data['name_xDrive']==1].value_counts().sum()"
   ]
  },
  {
   "cell_type": "code",
   "execution_count": 41,
   "metadata": {
    "execution": {
     "iopub.execute_input": "2022-01-11T22:04:15.801395Z",
     "iopub.status.busy": "2022-01-11T22:04:15.801057Z",
     "iopub.status.idle": "2022-01-11T22:04:15.814094Z",
     "shell.execute_reply": "2022-01-11T22:04:15.813274Z",
     "shell.execute_reply.started": "2022-01-11T22:04:15.801364Z"
    }
   },
   "outputs": [],
   "source": [
    "data['name_4wd_xDrive'] = data['name'].apply(lambda x: 1 if '4WD' in x else 0)"
   ]
  },
  {
   "cell_type": "code",
   "execution_count": 42,
   "metadata": {
    "execution": {
     "iopub.execute_input": "2022-01-11T22:04:15.815919Z",
     "iopub.status.busy": "2022-01-11T22:04:15.815534Z",
     "iopub.status.idle": "2022-01-11T22:04:15.821830Z",
     "shell.execute_reply": "2022-01-11T22:04:15.821050Z",
     "shell.execute_reply.started": "2022-01-11T22:04:15.815842Z"
    }
   },
   "outputs": [],
   "source": [
    "# data[data['name_4wd_xDrive']==1].value_counts().sum()"
   ]
  },
  {
   "cell_type": "code",
   "execution_count": 43,
   "metadata": {
    "execution": {
     "iopub.execute_input": "2022-01-11T22:04:15.823523Z",
     "iopub.status.busy": "2022-01-11T22:04:15.823171Z",
     "iopub.status.idle": "2022-01-11T22:04:15.829845Z",
     "shell.execute_reply": "2022-01-11T22:04:15.829105Z",
     "shell.execute_reply.started": "2022-01-11T22:04:15.823483Z"
    }
   },
   "outputs": [],
   "source": [
    "# data[(data['name_4wd_xDrive']==1) & (data['name_xDrive']==1)].sum()"
   ]
  },
  {
   "cell_type": "code",
   "execution_count": 44,
   "metadata": {
    "execution": {
     "iopub.execute_input": "2022-01-11T22:04:15.831582Z",
     "iopub.status.busy": "2022-01-11T22:04:15.831255Z",
     "iopub.status.idle": "2022-01-11T22:04:15.845511Z",
     "shell.execute_reply": "2022-01-11T22:04:15.844740Z",
     "shell.execute_reply.started": "2022-01-11T22:04:15.831548Z"
    }
   },
   "outputs": [],
   "source": [
    "data['name_4wd_xDrive'] = data['name'].apply(lambda x: 2 if 'xDrive' in x else 0)"
   ]
  },
  {
   "cell_type": "code",
   "execution_count": 45,
   "metadata": {
    "execution": {
     "iopub.execute_input": "2022-01-11T22:04:15.846686Z",
     "iopub.status.busy": "2022-01-11T22:04:15.846491Z",
     "iopub.status.idle": "2022-01-11T22:04:15.852717Z",
     "shell.execute_reply": "2022-01-11T22:04:15.851726Z",
     "shell.execute_reply.started": "2022-01-11T22:04:15.846662Z"
    }
   },
   "outputs": [],
   "source": [
    "# data[data['name_4wd_xDrive']==2].value_counts().sum()"
   ]
  },
  {
   "cell_type": "code",
   "execution_count": 46,
   "metadata": {
    "execution": {
     "iopub.execute_input": "2022-01-11T22:04:15.855149Z",
     "iopub.status.busy": "2022-01-11T22:04:15.854501Z",
     "iopub.status.idle": "2022-01-11T22:04:15.864089Z",
     "shell.execute_reply": "2022-01-11T22:04:15.863349Z",
     "shell.execute_reply.started": "2022-01-11T22:04:15.855103Z"
    }
   },
   "outputs": [],
   "source": [
    "data.drop('name_xDrive',  axis = 1, inplace=True)"
   ]
  },
  {
   "cell_type": "markdown",
   "metadata": {},
   "source": [
    "Вместо прелагаемого признака 'name_xDrive' введен признак 'name_4wd_xDrive', которое присвоено значение: если признак 'name' содержит значения '4WD' и 'xDrive', то =2; если содержит только '4WD', то =1; в остальных случаях =0. (значение 'xDrive' без '4WD' в 'name'- нет )."
   ]
  },
  {
   "cell_type": "code",
   "execution_count": 47,
   "metadata": {
    "execution": {
     "iopub.execute_input": "2022-01-11T22:04:15.865978Z",
     "iopub.status.busy": "2022-01-11T22:04:15.865688Z",
     "iopub.status.idle": "2022-01-11T22:04:15.869837Z",
     "shell.execute_reply": "2022-01-11T22:04:15.869086Z",
     "shell.execute_reply.started": "2022-01-11T22:04:15.865940Z"
    }
   },
   "outputs": [],
   "source": [
    "# data.info()"
   ]
  },
  {
   "cell_type": "code",
   "execution_count": 48,
   "metadata": {
    "execution": {
     "iopub.execute_input": "2022-01-11T22:04:15.872140Z",
     "iopub.status.busy": "2022-01-11T22:04:15.871443Z",
     "iopub.status.idle": "2022-01-11T22:04:15.878179Z",
     "shell.execute_reply": "2022-01-11T22:04:15.877361Z",
     "shell.execute_reply.started": "2022-01-11T22:04:15.872101Z"
    }
   },
   "outputs": [],
   "source": [
    "# data.vehicleConfiguration.unique()"
   ]
  },
  {
   "cell_type": "markdown",
   "metadata": {},
   "source": [
    "В  признаке \"vehicleConfiguration\" имеющиеся информация есть в других признаках,значить надо удалять из датасет"
   ]
  },
  {
   "cell_type": "code",
   "execution_count": 49,
   "metadata": {
    "execution": {
     "iopub.execute_input": "2022-01-11T22:04:15.880511Z",
     "iopub.status.busy": "2022-01-11T22:04:15.879923Z",
     "iopub.status.idle": "2022-01-11T22:04:15.889712Z",
     "shell.execute_reply": "2022-01-11T22:04:15.888683Z",
     "shell.execute_reply.started": "2022-01-11T22:04:15.880472Z"
    }
   },
   "outputs": [],
   "source": [
    "data.vehicleTransmission.unique()"
   ]
  },
  {
   "cell_type": "code",
   "execution_count": 50,
   "metadata": {
    "execution": {
     "iopub.execute_input": "2022-01-11T22:04:15.891733Z",
     "iopub.status.busy": "2022-01-11T22:04:15.891388Z",
     "iopub.status.idle": "2022-01-11T22:04:15.899663Z",
     "shell.execute_reply": "2022-01-11T22:04:15.898924Z",
     "shell.execute_reply.started": "2022-01-11T22:04:15.891697Z"
    }
   },
   "outputs": [],
   "source": [
    "data.Владельцы.unique()"
   ]
  },
  {
   "cell_type": "code",
   "execution_count": 51,
   "metadata": {
    "execution": {
     "iopub.execute_input": "2022-01-11T22:04:15.901992Z",
     "iopub.status.busy": "2022-01-11T22:04:15.901370Z",
     "iopub.status.idle": "2022-01-11T22:04:15.913395Z",
     "shell.execute_reply": "2022-01-11T22:04:15.912704Z",
     "shell.execute_reply.started": "2022-01-11T22:04:15.901953Z"
    }
   },
   "outputs": [],
   "source": [
    "data.Владельцы.value_counts()"
   ]
  },
  {
   "cell_type": "markdown",
   "metadata": {},
   "source": [
    "Признак \"Владельцы\" имеет единственный пропуск, по всей вероятности это \"3 или более\". Исправим и заменим на числовую."
   ]
  },
  {
   "cell_type": "code",
   "execution_count": 52,
   "metadata": {
    "execution": {
     "iopub.execute_input": "2022-01-11T22:04:15.916710Z",
     "iopub.status.busy": "2022-01-11T22:04:15.915825Z",
     "iopub.status.idle": "2022-01-11T22:04:15.930404Z",
     "shell.execute_reply": "2022-01-11T22:04:15.929745Z",
     "shell.execute_reply.started": "2022-01-11T22:04:15.916662Z"
    }
   },
   "outputs": [],
   "source": [
    "data.Владельцы.fillna('3 или более', inplace = True)\n",
    "data['Владельцы'] = data['Владельцы'].apply(lambda x: int(x[0])).astype('int32')"
   ]
  },
  {
   "cell_type": "code",
   "execution_count": 53,
   "metadata": {
    "execution": {
     "iopub.execute_input": "2022-01-11T22:04:15.932216Z",
     "iopub.status.busy": "2022-01-11T22:04:15.931876Z",
     "iopub.status.idle": "2022-01-11T22:04:15.945613Z",
     "shell.execute_reply": "2022-01-11T22:04:15.944709Z",
     "shell.execute_reply.started": "2022-01-11T22:04:15.932177Z"
    }
   },
   "outputs": [],
   "source": [
    "data.Владение.unique()"
   ]
  },
  {
   "cell_type": "markdown",
   "metadata": {},
   "source": [
    "Признак \"Владение\" имеет слишком много пропусков, надо удалить."
   ]
  },
  {
   "cell_type": "code",
   "execution_count": 54,
   "metadata": {
    "execution": {
     "iopub.execute_input": "2022-01-11T22:04:15.947586Z",
     "iopub.status.busy": "2022-01-11T22:04:15.947012Z",
     "iopub.status.idle": "2022-01-11T22:04:15.957444Z",
     "shell.execute_reply": "2022-01-11T22:04:15.956438Z",
     "shell.execute_reply.started": "2022-01-11T22:04:15.947546Z"
    }
   },
   "outputs": [],
   "source": [
    "data.ПТС.unique()"
   ]
  },
  {
   "cell_type": "code",
   "execution_count": 55,
   "metadata": {
    "execution": {
     "iopub.execute_input": "2022-01-11T22:04:15.960588Z",
     "iopub.status.busy": "2022-01-11T22:04:15.959254Z",
     "iopub.status.idle": "2022-01-11T22:04:15.970532Z",
     "shell.execute_reply": "2022-01-11T22:04:15.969804Z",
     "shell.execute_reply.started": "2022-01-11T22:04:15.960558Z"
    }
   },
   "outputs": [],
   "source": [
    "data.Привод.unique()"
   ]
  },
  {
   "cell_type": "code",
   "execution_count": 56,
   "metadata": {
    "execution": {
     "iopub.execute_input": "2022-01-11T22:04:15.973560Z",
     "iopub.status.busy": "2022-01-11T22:04:15.973158Z",
     "iopub.status.idle": "2022-01-11T22:04:15.981024Z",
     "shell.execute_reply": "2022-01-11T22:04:15.980213Z",
     "shell.execute_reply.started": "2022-01-11T22:04:15.973519Z"
    }
   },
   "outputs": [],
   "source": [
    "data.Руль.unique()"
   ]
  },
  {
   "cell_type": "code",
   "execution_count": 57,
   "metadata": {
    "execution": {
     "iopub.execute_input": "2022-01-11T22:04:15.983326Z",
     "iopub.status.busy": "2022-01-11T22:04:15.982684Z",
     "iopub.status.idle": "2022-01-11T22:04:15.990413Z",
     "shell.execute_reply": "2022-01-11T22:04:15.989506Z",
     "shell.execute_reply.started": "2022-01-11T22:04:15.983286Z"
    }
   },
   "outputs": [],
   "source": [
    "data.numberOfDoors.unique()"
   ]
  },
  {
   "cell_type": "code",
   "execution_count": 58,
   "metadata": {
    "execution": {
     "iopub.execute_input": "2022-01-11T22:04:15.992713Z",
     "iopub.status.busy": "2022-01-11T22:04:15.992142Z",
     "iopub.status.idle": "2022-01-11T22:04:17.114216Z",
     "shell.execute_reply": "2022-01-11T22:04:17.113460Z",
     "shell.execute_reply.started": "2022-01-11T22:04:15.992671Z"
    }
   },
   "outputs": [],
   "source": [
    "# корреляция между всех признаков\n",
    "fig, ax = plt.subplots(1, 1, figsize=(10, 5))\n",
    "ax = sns.heatmap(data.corr(),fmt='.1g',\n",
    "                 annot=True, cmap='coolwarm')"
   ]
  },
  {
   "cell_type": "markdown",
   "metadata": {},
   "source": [
    "Сильная корреляция между \"modelDate\" и \"productionDate\". Удалить одного из них (возможно \"modelDate\")"
   ]
  },
  {
   "cell_type": "markdown",
   "metadata": {},
   "source": [
    "### PreProc Tabular Data"
   ]
  },
  {
   "cell_type": "code",
   "execution_count": 59,
   "metadata": {
    "execution": {
     "iopub.execute_input": "2022-01-11T22:04:17.115441Z",
     "iopub.status.busy": "2022-01-11T22:04:17.115216Z",
     "iopub.status.idle": "2022-01-11T22:04:17.144613Z",
     "shell.execute_reply": "2022-01-11T22:04:17.143685Z",
     "shell.execute_reply.started": "2022-01-11T22:04:17.115410Z"
    }
   },
   "outputs": [],
   "source": [
    "data.info()"
   ]
  },
  {
   "cell_type": "markdown",
   "metadata": {},
   "source": [
    "#### В категориальных признаках почти нет пропусков, кроме признака \"Владение\", один пропусок в признаке \"Владельцы\" легко исправимо. \n",
    "Признак \"Владение\" удалим из датасет, слишком много пропусков и из списка категориальных признаков.\n",
    "\n",
    "Признак \"bodyType\" очищен и приведен к однословную форму.\n",
    " \n",
    "Все текстовые признаки как категориальные за исключением признака \"description\", как длинный текстовой,  \n",
    " который требует NLP обработки. Добавляем к категориальным признак 'numberOfDoors' (число дверей авто), представленный в датасет как числовой признак\n",
    " \n",
    " В признаках \"name\" и  \"vehicleConfiguration\" имеющиеся информация есть в других признаках,значить их надо удалять из датасет\n",
    " (Но рекомендуется, что из признака \"name\"  выделить значения 'xDrive'). \n",
    " (data['name_4wd_xDrive']  присвоили 2, если есть в строке 4WD и xDrive одновременно, если только 4WD, то 1, в остальных случаях 0. xDrive без 4WD в строоке name нет."
   ]
  },
  {
   "cell_type": "code",
   "execution_count": 60,
   "metadata": {
    "execution": {
     "iopub.execute_input": "2022-01-11T22:04:17.146656Z",
     "iopub.status.busy": "2022-01-11T22:04:17.146178Z",
     "iopub.status.idle": "2022-01-11T22:04:17.155939Z",
     "shell.execute_reply": "2022-01-11T22:04:17.154892Z",
     "shell.execute_reply.started": "2022-01-11T22:04:17.146614Z"
    }
   },
   "outputs": [],
   "source": [
    "cat_cols = data.select_dtypes(include=[object]).columns\n",
    "cat_cols"
   ]
  },
  {
   "cell_type": "code",
   "execution_count": 61,
   "metadata": {
    "execution": {
     "iopub.execute_input": "2022-01-11T22:04:17.158319Z",
     "iopub.status.busy": "2022-01-11T22:04:17.157759Z",
     "iopub.status.idle": "2022-01-11T22:04:17.169260Z",
     "shell.execute_reply": "2022-01-11T22:04:17.168280Z",
     "shell.execute_reply.started": "2022-01-11T22:04:17.158275Z"
    }
   },
   "outputs": [],
   "source": [
    "# Корректируем список категориальных признаков\n",
    "col = ['description','name', 'vehicleConfiguration', 'Владение']\n",
    "cat_cols = cat_cols.drop(col)\n",
    "\n",
    "cat_cols = cat_cols.tolist()\n",
    "cat_cols.append('Владельцы')\n",
    "cat_cols.append('numberOfDoors')\n",
    "cat_cols.append('name_4wd_xDrive')\n",
    "cat_cols"
   ]
  },
  {
   "cell_type": "code",
   "execution_count": 62,
   "metadata": {
    "execution": {
     "iopub.execute_input": "2022-01-11T22:04:17.171419Z",
     "iopub.status.busy": "2022-01-11T22:04:17.171009Z",
     "iopub.status.idle": "2022-01-11T22:04:17.183535Z",
     "shell.execute_reply": "2022-01-11T22:04:17.182671Z",
     "shell.execute_reply.started": "2022-01-11T22:04:17.171377Z"
    }
   },
   "outputs": [],
   "source": [
    "num_cols = data.select_dtypes(include=[np.number]).columns\n",
    "# num_cols = data._get_numeric_data()\n",
    "num_cols"
   ]
  },
  {
   "cell_type": "code",
   "execution_count": 63,
   "metadata": {
    "execution": {
     "iopub.execute_input": "2022-01-11T22:04:17.186184Z",
     "iopub.status.busy": "2022-01-11T22:04:17.185134Z",
     "iopub.status.idle": "2022-01-11T22:04:17.196159Z",
     "shell.execute_reply": "2022-01-11T22:04:17.194312Z",
     "shell.execute_reply.started": "2022-01-11T22:04:17.186137Z"
    }
   },
   "outputs": [],
   "source": [
    "# Корректируем список числовых признаков\n",
    "num_cols = num_cols.drop(['modelDate', 'Владельцы',  'numberOfDoors', 'sell_id', 'sample', 'price','name_4wd_xDrive',])\n",
    "num_cols = num_cols.tolist()\n",
    "num_cols.append('model_age')\n",
    "num_cols.append('mile_per_year')\n",
    "num_cols"
   ]
  },
  {
   "cell_type": "markdown",
   "metadata": {},
   "source": [
    "Рекомендации, предложенные для улучшения Model 3 попробуем использовать и для модель 2:\n",
    "* **df_output['model_age'] = np.log(2021 - df_output.modelDate)**\n",
    "* **df_output['mile_per_year'] = np.log(df_output['mileage'] / df_output['model_age'])**\n",
    "* Признак  **'engineDisplacement'** преобразовали в числовой.\n",
    "\n",
    "Извлекли  числовых значений из текста: Парсинг признаков  **'enginePower'** для извлечения числовых значений.\n",
    "\n",
    "Из признака 'name' выделили  значения **xDrive**  и **4WD** качестве отдельного признака, под именем **'name_4wd_xDrive'**."
   ]
  },
  {
   "cell_type": "code",
   "execution_count": 64,
   "metadata": {
    "_kg_hide-input": true,
    "execution": {
     "iopub.execute_input": "2022-01-11T22:04:17.198544Z",
     "iopub.status.busy": "2022-01-11T22:04:17.197958Z",
     "iopub.status.idle": "2022-01-11T22:04:17.211434Z",
     "shell.execute_reply": "2022-01-11T22:04:17.210398Z",
     "shell.execute_reply.started": "2022-01-11T22:04:17.198498Z"
    }
   },
   "outputs": [],
   "source": [
    "def preproc_data(df_input):\n",
    "    '''включает несколько функций предварительной обработки данных для прогноза '''\n",
    "    df_output = df_input.copy()\n",
    "        \n",
    "    # ################### Feature Engineering ####################################################\n",
    "    # тут ваш код на генерацию новых фитчей ...\n",
    "    # сгенерируем новые признаки на основе существующих:\n",
    "    \n",
    "    # Новый признак - возраст модели:\n",
    "    df_output['model_age'] = (2021 - df_output.modelDate) \n",
    "    \n",
    "    # Новый признак - километраж за год. \n",
    "    df_output['mile_per_year'] = df_output['mileage']  /(2021 - df_output.modelDate)\n",
    "    # Используем (2021 - df_output.modelDate) для случая отказа от новой фитчы 'model_age'\n",
    "    \n",
    "     # Логарифмы признаков\n",
    "    df_output['model_age'] = np.log(df_output['model_age'])\n",
    "    df_output['productionDate'] = np.log(data['productionDate'])\n",
    "    # df_output['mile_per_year'] = np.log(df_output['mile_per_year'])\n",
    "    # df_output['mileage'] = np.log(df_output['mileage'])\n",
    "    \n",
    "    # Удаление не нужных для модели признаки\n",
    "    df_output.drop(['description','sell_id',  'name', 'vehicleConfiguration',\n",
    "                    'modelDate', 'Владение'], axis = 1, inplace=True)\n",
    "      \n",
    "    # Нормализация данных\n",
    "    # scaler = MinMaxScaler()\n",
    "    scaler = RobustScaler() \n",
    "    for column in num_cols:\n",
    "        df_output[column] = scaler.fit_transform(df_output[[column]])[:, 0]\n",
    "\n",
    "   ################### Категориальные признаки ########################################## \n",
    "    # Label Encoding\n",
    "    for column in cat_cols:\n",
    "        df_output[column] = df_output[column].astype('category').cat.codes\n",
    "        \n",
    "           \n",
    "    # One-Hot Encoding: в pandas есть готовая функция - get_dummies.\n",
    "    df_output = pd.get_dummies(\n",
    "        df_output, columns=cat_cols, dummy_na=False)\n",
    "     \n",
    "    return df_output"
   ]
  },
  {
   "cell_type": "code",
   "execution_count": 65,
   "metadata": {
    "execution": {
     "iopub.execute_input": "2022-01-11T22:04:17.214681Z",
     "iopub.status.busy": "2022-01-11T22:04:17.214064Z",
     "iopub.status.idle": "2022-01-11T22:04:17.290338Z",
     "shell.execute_reply": "2022-01-11T22:04:17.289505Z",
     "shell.execute_reply.started": "2022-01-11T22:04:17.214635Z"
    }
   },
   "outputs": [],
   "source": [
    "# Запускаем и проверяем, что получилось\n",
    "df_preproc = preproc_data(data)\n",
    "# df_preproc.head(5) # .sample(5)"
   ]
  },
  {
   "cell_type": "code",
   "execution_count": 66,
   "metadata": {
    "execution": {
     "iopub.execute_input": "2022-01-11T22:04:17.292043Z",
     "iopub.status.busy": "2022-01-11T22:04:17.291738Z",
     "iopub.status.idle": "2022-01-11T22:04:17.314547Z",
     "shell.execute_reply": "2022-01-11T22:04:17.313654Z",
     "shell.execute_reply.started": "2022-01-11T22:04:17.292005Z"
    }
   },
   "outputs": [],
   "source": [
    "df_preproc[num_cols].corr()"
   ]
  },
  {
   "cell_type": "markdown",
   "metadata": {},
   "source": [
    "### Split data"
   ]
  },
  {
   "cell_type": "code",
   "execution_count": 67,
   "metadata": {
    "execution": {
     "iopub.execute_input": "2022-01-11T22:04:17.316730Z",
     "iopub.status.busy": "2022-01-11T22:04:17.316201Z",
     "iopub.status.idle": "2022-01-11T22:04:17.358889Z",
     "shell.execute_reply": "2022-01-11T22:04:17.358046Z",
     "shell.execute_reply.started": "2022-01-11T22:04:17.316672Z"
    }
   },
   "outputs": [],
   "source": [
    "# Теперь выделим тестовую часть\n",
    "train_data = df_preproc.query('sample == 1').drop(['sample'], axis=1)\n",
    "test_data = df_preproc.query('sample == 0').drop(['sample'], axis=1)\n",
    "\n",
    "y = train_data.price.values     # наш таргет\n",
    "X = train_data.drop(['price'], axis=1)\n",
    "X_sub = test_data.drop(['price'], axis=1)\n",
    "\n",
    "X_train, X_test, y_train, y_test = train_test_split(\n",
    "        X, y, test_size=0.15, shuffle=True, random_state=RANDOM_SEED)"
   ]
  },
  {
   "cell_type": "code",
   "execution_count": 68,
   "metadata": {
    "execution": {
     "iopub.execute_input": "2022-01-11T22:04:17.360870Z",
     "iopub.status.busy": "2022-01-11T22:04:17.360387Z",
     "iopub.status.idle": "2022-01-11T22:04:17.364648Z",
     "shell.execute_reply": "2022-01-11T22:04:17.363848Z",
     "shell.execute_reply.started": "2022-01-11T22:04:17.360828Z"
    }
   },
   "outputs": [],
   "source": [
    "# test_data.info()"
   ]
  },
  {
   "cell_type": "markdown",
   "metadata": {},
   "source": [
    "## Model 2: CatBoostRegressor"
   ]
  },
  {
   "cell_type": "code",
   "execution_count": 69,
   "metadata": {
    "execution": {
     "iopub.execute_input": "2022-01-11T22:04:17.366934Z",
     "iopub.status.busy": "2022-01-11T22:04:17.366430Z",
     "iopub.status.idle": "2022-01-11T22:04:32.433479Z",
     "shell.execute_reply": "2022-01-11T22:04:32.432726Z",
     "shell.execute_reply.started": "2022-01-11T22:04:17.366891Z"
    }
   },
   "outputs": [],
   "source": [
    "model = CatBoostRegressor(iterations = 5000,\n",
    "                          #depth=10,\n",
    "                          #learning_rate = 0.01,\n",
    "                          random_seed = RANDOM_SEED,\n",
    "                          eval_metric='MAPE',\n",
    "                          custom_metric=['RMSE', 'MAE'],\n",
    "                          od_wait=500,\n",
    "                         )\n",
    "\n",
    "model.fit(X_train,np.log(y_train),\n",
    "         eval_set=(X_test, np.log(y_test)),\n",
    "         verbose_eval=100,\n",
    "         use_best_model=True,\n",
    "        )"
   ]
  },
  {
   "cell_type": "code",
   "execution_count": 70,
   "metadata": {
    "execution": {
     "iopub.execute_input": "2022-01-11T22:04:32.435293Z",
     "iopub.status.busy": "2022-01-11T22:04:32.435016Z",
     "iopub.status.idle": "2022-01-11T22:04:32.455408Z",
     "shell.execute_reply": "2022-01-11T22:04:32.454487Z",
     "shell.execute_reply.started": "2022-01-11T22:04:32.435257Z"
    }
   },
   "outputs": [],
   "source": [
    "test_predict_catboost = np.exp(model.predict(X_test))\n",
    "print(f\"TEST mape: {(mape(y_test, test_predict_catboost))*100:0.2f}%\")"
   ]
  },
  {
   "cell_type": "markdown",
   "metadata": {},
   "source": [
    "#### Submission"
   ]
  },
  {
   "cell_type": "code",
   "execution_count": 71,
   "metadata": {
    "execution": {
     "iopub.execute_input": "2022-01-11T22:04:32.457334Z",
     "iopub.status.busy": "2022-01-11T22:04:32.456998Z",
     "iopub.status.idle": "2022-01-11T22:04:32.498380Z",
     "shell.execute_reply": "2022-01-11T22:04:32.497537Z",
     "shell.execute_reply.started": "2022-01-11T22:04:32.457301Z"
    }
   },
   "outputs": [],
   "source": [
    "sub_predict_catboost = model.predict(X_sub)\n",
    "sample_submission['price'] = sub_predict_catboost\n",
    "sample_submission.to_csv('catboost_submission.csv', index=False)"
   ]
  },
  {
   "cell_type": "markdown",
   "metadata": {},
   "source": [
    "Рекомендации, предложенные для улучшения Model 3 model_age попробовали использовать и для модели 2 и 4:\n",
    "Вновь введенный признак 'model_age' = 2021 - df_output.modelDate сильно коррелируется с признаком 'productionDate'. В Model 2: CatBoostRegressor эта зависимость дает устойчивый результат (11,21-11,22 %). \n",
    "\n",
    "Лучший результат (MAPE=11,15%) получается с тремя числовыми признаками:['enginePower', 'mileage', 'productionDate'] и со всеми  категориальными признаками."
   ]
  },
  {
   "cell_type": "markdown",
   "metadata": {},
   "source": [
    "## Model 3: Tabular NN\n",
    "Построим обычную сеть:"
   ]
  },
  {
   "cell_type": "markdown",
   "metadata": {},
   "source": [
    "### Simple Dense NN"
   ]
  },
  {
   "cell_type": "code",
   "execution_count": 72,
   "metadata": {
    "execution": {
     "iopub.execute_input": "2022-01-11T22:04:32.501548Z",
     "iopub.status.busy": "2022-01-11T22:04:32.500932Z",
     "iopub.status.idle": "2022-01-11T22:04:34.854900Z",
     "shell.execute_reply": "2022-01-11T22:04:34.854104Z",
     "shell.execute_reply.started": "2022-01-11T22:04:32.501503Z"
    }
   },
   "outputs": [],
   "source": [
    "model = Sequential()\n",
    "model.add(L.Dense(512, input_dim=X_train.shape[1], activation=\"sigmoid\"))\n",
    "model.add(L.Dropout(0.5))\n",
    "model.add(L.Dense(256, activation=\"relu\"))\n",
    "# model.add(L.Dropout(0.5))\n",
    "model.add(L.Dense(256, activation=\"relu\")) # допонительный полносвязный слой\n",
    "# model.add(L.Dropout(0.5))\n",
    "# model.add(L.Dense(256, activation=\"relu\"))\n",
    "# model.add(L.Dropout(0.5))\n",
    "model.add(L.Dense(1, activation=\"linear\"))\n",
    "# model.summary()"
   ]
  },
  {
   "cell_type": "code",
   "execution_count": 73,
   "metadata": {
    "execution": {
     "iopub.execute_input": "2022-01-11T22:04:34.857950Z",
     "iopub.status.busy": "2022-01-11T22:04:34.856120Z",
     "iopub.status.idle": "2022-01-11T22:04:34.871440Z",
     "shell.execute_reply": "2022-01-11T22:04:34.870537Z",
     "shell.execute_reply.started": "2022-01-11T22:04:34.857906Z"
    }
   },
   "outputs": [],
   "source": [
    "# Compile model\n",
    "optimizer = tf.keras.optimizers.Adam(0.01)\n",
    "model.compile(loss='MAPE',optimizer=optimizer, metrics=['MAPE'])"
   ]
  },
  {
   "cell_type": "code",
   "execution_count": 74,
   "metadata": {
    "execution": {
     "iopub.execute_input": "2022-01-11T22:04:34.873433Z",
     "iopub.status.busy": "2022-01-11T22:04:34.873091Z",
     "iopub.status.idle": "2022-01-11T22:04:34.878935Z",
     "shell.execute_reply": "2022-01-11T22:04:34.877974Z",
     "shell.execute_reply.started": "2022-01-11T22:04:34.873390Z"
    }
   },
   "outputs": [],
   "source": [
    "checkpoint = ModelCheckpoint('../working/best_model.hdf5' , monitor=['val_MAPE'], verbose=0  , mode='min')\n",
    "earlystop = EarlyStopping(monitor='val_MAPE', patience=50, restore_best_weights=True,)\n",
    "callbacks_list = [checkpoint, earlystop]"
   ]
  },
  {
   "cell_type": "markdown",
   "metadata": {},
   "source": [
    "#### Fit"
   ]
  },
  {
   "cell_type": "code",
   "execution_count": 75,
   "metadata": {
    "execution": {
     "iopub.execute_input": "2022-01-11T22:04:34.881121Z",
     "iopub.status.busy": "2022-01-11T22:04:34.880802Z",
     "iopub.status.idle": "2022-01-11T22:04:52.944005Z",
     "shell.execute_reply": "2022-01-11T22:04:52.943240Z",
     "shell.execute_reply.started": "2022-01-11T22:04:34.881082Z"
    }
   },
   "outputs": [],
   "source": [
    "history = model.fit(X_train, y_train,\n",
    "                    batch_size=512,\n",
    "                    epochs=500, # фактически мы обучаем пока EarlyStopping не остановит обучение\n",
    "                    validation_data=(X_test, y_test),\n",
    "                    callbacks=callbacks_list,\n",
    "                    verbose=0,\n",
    "                   )"
   ]
  },
  {
   "cell_type": "code",
   "execution_count": 76,
   "metadata": {
    "execution": {
     "iopub.execute_input": "2022-01-11T22:04:52.945744Z",
     "iopub.status.busy": "2022-01-11T22:04:52.945485Z",
     "iopub.status.idle": "2022-01-11T22:04:53.127361Z",
     "shell.execute_reply": "2022-01-11T22:04:53.126656Z",
     "shell.execute_reply.started": "2022-01-11T22:04:52.945708Z"
    }
   },
   "outputs": [],
   "source": [
    "plt.title('Loss')\n",
    "plt.plot(history.history['MAPE'], label='train')\n",
    "plt.plot(history.history['val_MAPE'], label='test')\n",
    "plt.show();"
   ]
  },
  {
   "cell_type": "code",
   "execution_count": 77,
   "metadata": {
    "execution": {
     "iopub.execute_input": "2022-01-11T22:04:53.129467Z",
     "iopub.status.busy": "2022-01-11T22:04:53.128931Z",
     "iopub.status.idle": "2022-01-11T22:04:53.174378Z",
     "shell.execute_reply": "2022-01-11T22:04:53.173544Z",
     "shell.execute_reply.started": "2022-01-11T22:04:53.129427Z"
    }
   },
   "outputs": [],
   "source": [
    "model.load_weights('../working/best_model.hdf5')\n",
    "model.save('../working/nn_1.hdf5')"
   ]
  },
  {
   "cell_type": "code",
   "execution_count": 78,
   "metadata": {
    "execution": {
     "iopub.execute_input": "2022-01-11T22:04:53.176093Z",
     "iopub.status.busy": "2022-01-11T22:04:53.175813Z",
     "iopub.status.idle": "2022-01-11T22:04:53.351767Z",
     "shell.execute_reply": "2022-01-11T22:04:53.350882Z",
     "shell.execute_reply.started": "2022-01-11T22:04:53.176056Z"
    }
   },
   "outputs": [],
   "source": [
    "test_predict_nn1 = model.predict(X_test)\n",
    "print(f\"TEST mape: {(mape(y_test, test_predict_nn1[:,0]))*100:0.2f}%\")"
   ]
  },
  {
   "cell_type": "markdown",
   "metadata": {},
   "source": [
    "Результаты экспериментов\n",
    "* TEST mape:  10.53% ,  10.61%, 10.97%, 11.08%, 11.12%, 11.00%, 10.94%,  \n",
    "* TEST mape:  10.68%, 10.50%,  10.66%, 10.60, 10.70%,10.58%, 10.44%, 10.51%, 10.59%\n",
    "* TEST mape:  10.75%, 10.82%, 10.79%, 10.68%, 10.65%, 10.78%, 10.60%, 10.71%, 10.69%, 10.68%\n",
    "* TEST mape: 10.53%, 10.55%, "
   ]
  },
  {
   "cell_type": "code",
   "execution_count": 79,
   "metadata": {
    "execution": {
     "iopub.execute_input": "2022-01-11T22:04:53.353930Z",
     "iopub.status.busy": "2022-01-11T22:04:53.353454Z",
     "iopub.status.idle": "2022-01-11T22:04:53.475993Z",
     "shell.execute_reply": "2022-01-11T22:04:53.475242Z",
     "shell.execute_reply.started": "2022-01-11T22:04:53.353889Z"
    }
   },
   "outputs": [],
   "source": [
    "sub_predict_nn1 = model.predict(X_sub)\n",
    "sample_submission['price'] = sub_predict_nn1[:,0]\n",
    "sample_submission.to_csv('nn1_submission.csv', index=False)"
   ]
  },
  {
   "cell_type": "code",
   "execution_count": 80,
   "metadata": {
    "execution": {
     "iopub.execute_input": "2022-01-11T22:04:53.477526Z",
     "iopub.status.busy": "2022-01-11T22:04:53.477268Z",
     "iopub.status.idle": "2022-01-11T22:04:53.482613Z",
     "shell.execute_reply": "2022-01-11T22:04:53.481743Z",
     "shell.execute_reply.started": "2022-01-11T22:04:53.477493Z"
    }
   },
   "outputs": [],
   "source": [
    "# sample_submission"
   ]
  },
  {
   "cell_type": "code",
   "execution_count": null,
   "metadata": {},
   "outputs": [],
   "source": []
  },
  {
   "cell_type": "markdown",
   "metadata": {},
   "source": [
    "### Рекомендации для улучшения Model 3:\n",
    "\n",
    "* В нейросеть желательно подавать данные с распределением, близким к нормальному, поэтому от некоторых числовых признаков имеет смысл взять логарифм перед нормализацией. Пример: modelDateNorm = np.log(2020 - data['modelDate']) Статья по теме: https://habr.com/ru/company/ods/blog/325422\n",
    "\n",
    "* Извлечение числовых значений из текста: Парсинг признаков 'engineDisplacement', 'enginePower', 'Владение' для извлечения числовых значений.\n",
    "\n",
    "* Cокращение размерности категориальных признаков Признак name 'name' содержит данные, которые уже есть в других столбцах ('enginePower', 'engineDisplacement', 'vehicleTransmission'), поэтому эти данные можно удалить. Затем следует еще сильнее сократить размерность, например, выделив наличие xDrive в качестве отдельного признака."
   ]
  },
  {
   "cell_type": "markdown",
   "metadata": {},
   "source": [
    "### РезультатыModel 2 и Model 3.\n",
    "\n",
    "Вновь введенные признаки 'model_age' (modelDateNorm) и 'mile_per_year' сильно коррелирются с признаками 'productionDate' и 'mileage'.\n",
    "\n",
    "В Model 2: CatBoostRegressor эта зависимость дает устойчивый результат (Test_Mape = 11,21-11,22 %). Без введения новых фитчей результат - Test_Mape = 11,10% \n",
    "\n",
    "Model 3: Tabular NN работает не устойчиво (результат каждой запуски разные). Поэтому необходимо удалит одного из этих признаков, или 'model_age', или 'productionDate', или 'mileage', но их логарифмирование снижает корреляционной зависимости. Экспериментировано с этими признаками. Кроме того, проведен эксперимент с разной комбинацией логарифмирования числовых признаков\n",
    "\n",
    "### Состав числовых признаков для всех моделей едины\n",
    "Вновь введенные признаки 'model_age' (modelDateNorm) и 'mile_per_year' сильно коррелирются с признаками 'productionDate' и 'mileage'.\n",
    "\n",
    "В Model 2: CatBoostRegressor эта зависимость дает устойчивый результат (Test_Mape = 11,21-11,22 %). Без введения новых фитчей результат - Test_Mape = 11,10% \n",
    "\n",
    "Model 3: Tabular NN работает не устойчиво (результат каждой запуски разные). Поэтому необходимо удалит одного из этих признаков, или 'model_age', или 'productionDate', или 'mileage', но их логарифмирование снижает корреляционной зависимости. Экспериментировано с этими признаками. Кроме того, проведен эксперимент с разной комбинацией логарифмирования числовых признаков\n",
    "\n",
    "Вместо прелагаемого признака 'name_xDrive' введен признак 'name_4wd_xDrive', которое присвоено значение: если признак 'name' содержит значения '4WD' и 'xDrive', то =2; если содержит только '4WD', то =1; в остальных случаях =0. (значение 'xDrive' без '4WD' в 'name'- нет ).\n",
    "Вместо прелагаемого признака 'name_xDrive' введен признак 'name_4wd_xDrive', которое присвоено значение: если признак 'name' содержит значения '4WD' и 'xDrive', то =2; если содержит только '4WD', то =1; в остальных случаях =0. (значение 'xDrive' без '4WD' в 'name'- нет ).\n",
    "Вновь введенные признаки 'model_age' (modelDateNorm) и 'mile_per_year' сильно коррелирются с признаками 'productionDate' и 'mileage'.\n",
    "В Model 2: CatBoostRegressor эта зависимость дает устойчивый результат (Test_Mape = 11,21-11,22 %). Без введения новых фитчей результат - Test_Mape = 11,10% \n",
    "\n",
    "Model 3: Tabular NN работает не устойчиво (результат каждой запуски разные). Поэтому необходимо удалит одного из этих признаков, или 'model_age', или 'productionDate', или 'mileage', но их логарифмирование снижает корреляционной зависимости. Экспериментировано с этими признаками. Кроме того, проведен эксперимент с разной комбинацией логарифмирования числовых признаков\n",
    "\n",
    "Вместо прелагаемого признака 'name_xDrive' введен признак 'name_4wd_xDrive', которое присвоено значение: если признак 'name' содержит значения '4WD' и 'xDrive', то =2; если содержит только '4WD', то =1; в остальных случаях =0. (значение 'xDrive' без '4WD' в 'name'- нет )."
   ]
  },
  {
   "cell_type": "markdown",
   "metadata": {},
   "source": [
    "## Model 4: NLP + Multiple Inputs"
   ]
  },
  {
   "cell_type": "code",
   "execution_count": 81,
   "metadata": {
    "execution": {
     "iopub.execute_input": "2022-01-11T22:04:53.484685Z",
     "iopub.status.busy": "2022-01-11T22:04:53.484164Z",
     "iopub.status.idle": "2022-01-11T22:05:16.073980Z",
     "shell.execute_reply": "2022-01-11T22:05:16.073258Z",
     "shell.execute_reply.started": "2022-01-11T22:04:53.484644Z"
    }
   },
   "outputs": [],
   "source": [
    "!pip install pymorphy2\n",
    "!pip install pymorphy2-dicts\n",
    "# !pip install DAWG-Python\n",
    "import nltk\n",
    "import pymorphy2\n",
    "nltk.download(\"stopwords\")"
   ]
  },
  {
   "cell_type": "code",
   "execution_count": 82,
   "metadata": {
    "execution": {
     "iopub.execute_input": "2022-01-11T22:05:16.075816Z",
     "iopub.status.busy": "2022-01-11T22:05:16.075458Z",
     "iopub.status.idle": "2022-01-11T22:05:16.087314Z",
     "shell.execute_reply": "2022-01-11T22:05:16.086480Z",
     "shell.execute_reply.started": "2022-01-11T22:05:16.075764Z"
    }
   },
   "outputs": [],
   "source": [
    "df_preproc['description'] = data.description"
   ]
  },
  {
   "cell_type": "code",
   "execution_count": 83,
   "metadata": {
    "execution": {
     "iopub.execute_input": "2022-01-11T22:05:16.089345Z",
     "iopub.status.busy": "2022-01-11T22:05:16.088740Z",
     "iopub.status.idle": "2022-01-11T22:05:16.307445Z",
     "shell.execute_reply": "2022-01-11T22:05:16.306737Z",
     "shell.execute_reply.started": "2022-01-11T22:05:16.089305Z"
    }
   },
   "outputs": [],
   "source": [
    "morph = pymorphy2.MorphAnalyzer()\n",
    "patterns = \"[A-Za-z0-9!#$%&'()*+,./:;<=>?@[\\]^_`{|}~—\\\"\\-]+\""
   ]
  },
  {
   "cell_type": "code",
   "execution_count": 84,
   "metadata": {
    "execution": {
     "iopub.execute_input": "2022-01-11T22:05:16.309100Z",
     "iopub.status.busy": "2022-01-11T22:05:16.308866Z",
     "iopub.status.idle": "2022-01-11T22:05:16.315692Z",
     "shell.execute_reply": "2022-01-11T22:05:16.315048Z",
     "shell.execute_reply.started": "2022-01-11T22:05:16.309067Z"
    }
   },
   "outputs": [],
   "source": [
    "def lemmatize(doc):\n",
    "    doc = re.sub(patterns, ' ', doc)\n",
    "    tokens = []\n",
    "    for token in doc.split():\n",
    "        token = token.strip()\n",
    "        token = morph.normal_forms(token)[0]\n",
    "        tokens.append(token)\n",
    "    return ' '.join(tokens)"
   ]
  },
  {
   "cell_type": "code",
   "execution_count": 85,
   "metadata": {
    "execution": {
     "iopub.execute_input": "2022-01-11T22:05:16.318044Z",
     "iopub.status.busy": "2022-01-11T22:05:16.317416Z",
     "iopub.status.idle": "2022-01-11T22:10:08.233853Z",
     "shell.execute_reply": "2022-01-11T22:10:08.233064Z",
     "shell.execute_reply.started": "2022-01-11T22:05:16.317930Z"
    }
   },
   "outputs": [],
   "source": [
    "df_preproc['description'] = df_preproc.apply(lambda df_preproc: lemmatize(df_preproc.description), axis=1)"
   ]
  },
  {
   "cell_type": "code",
   "execution_count": 86,
   "metadata": {
    "execution": {
     "iopub.execute_input": "2022-01-11T22:10:08.235723Z",
     "iopub.status.busy": "2022-01-11T22:10:08.235441Z",
     "iopub.status.idle": "2022-01-11T22:10:08.243558Z",
     "shell.execute_reply": "2022-01-11T22:10:08.242832Z",
     "shell.execute_reply.started": "2022-01-11T22:10:08.235686Z"
    }
   },
   "outputs": [],
   "source": [
    "df_preproc['description']"
   ]
  },
  {
   "cell_type": "code",
   "execution_count": 87,
   "metadata": {
    "execution": {
     "iopub.execute_input": "2022-01-11T22:10:08.245327Z",
     "iopub.status.busy": "2022-01-11T22:10:08.244873Z",
     "iopub.status.idle": "2022-01-11T22:10:08.260610Z",
     "shell.execute_reply": "2022-01-11T22:10:08.259726Z",
     "shell.execute_reply.started": "2022-01-11T22:10:08.245287Z"
    }
   },
   "outputs": [],
   "source": [
    "text = df_preproc['description'].max()\n",
    "text"
   ]
  },
  {
   "cell_type": "code",
   "execution_count": 88,
   "metadata": {
    "execution": {
     "iopub.execute_input": "2022-01-11T22:10:08.262726Z",
     "iopub.status.busy": "2022-01-11T22:10:08.262241Z",
     "iopub.status.idle": "2022-01-11T22:10:08.268296Z",
     "shell.execute_reply": "2022-01-11T22:10:08.267255Z",
     "shell.execute_reply.started": "2022-01-11T22:10:08.262684Z"
    }
   },
   "outputs": [],
   "source": [
    "# Максимальное количество используемых слов. (наиболее часто)\n",
    "MAX_WORDS = 100000\n",
    "# Максимальное количество слов в каждой рекламации.\n",
    "MAX_SEQUENCE_LENGTH = 256"
   ]
  },
  {
   "cell_type": "code",
   "execution_count": 89,
   "metadata": {
    "execution": {
     "iopub.execute_input": "2022-01-11T22:10:08.270008Z",
     "iopub.status.busy": "2022-01-11T22:10:08.269679Z",
     "iopub.status.idle": "2022-01-11T22:10:08.282371Z",
     "shell.execute_reply": "2022-01-11T22:10:08.281601Z",
     "shell.execute_reply.started": "2022-01-11T22:10:08.269969Z"
    }
   },
   "outputs": [],
   "source": [
    "# split данных\n",
    "text_train = data.description.iloc[X_train.index]\n",
    "text_test = data.description.iloc[X_test.index]\n",
    "text_sub = data.description.iloc[X_sub.index]"
   ]
  },
  {
   "cell_type": "code",
   "execution_count": 90,
   "metadata": {
    "execution": {
     "iopub.execute_input": "2022-01-11T22:10:08.284800Z",
     "iopub.status.busy": "2022-01-11T22:10:08.283905Z",
     "iopub.status.idle": "2022-01-11T22:10:08.296355Z",
     "shell.execute_reply": "2022-01-11T22:10:08.295530Z",
     "shell.execute_reply.started": "2022-01-11T22:10:08.284740Z"
    }
   },
   "outputs": [],
   "source": [
    "text_train"
   ]
  },
  {
   "cell_type": "markdown",
   "metadata": {},
   "source": [
    "### Tokenizer"
   ]
  },
  {
   "cell_type": "markdown",
   "metadata": {},
   "source": [
    "Здесь используем лемметизированные данные"
   ]
  },
  {
   "cell_type": "code",
   "execution_count": 91,
   "metadata": {
    "execution": {
     "iopub.execute_input": "2022-01-11T22:10:08.300558Z",
     "iopub.status.busy": "2022-01-11T22:10:08.298710Z",
     "iopub.status.idle": "2022-01-11T22:10:09.512647Z",
     "shell.execute_reply": "2022-01-11T22:10:09.511659Z",
     "shell.execute_reply.started": "2022-01-11T22:10:08.300490Z"
    }
   },
   "outputs": [],
   "source": [
    "%%time\n",
    "tokenize = Tokenizer(num_words=MAX_WORDS)\n",
    "tokenize.fit_on_texts(df_preproc.description)"
   ]
  },
  {
   "cell_type": "code",
   "execution_count": 92,
   "metadata": {
    "execution": {
     "iopub.execute_input": "2022-01-11T22:10:09.514715Z",
     "iopub.status.busy": "2022-01-11T22:10:09.514299Z",
     "iopub.status.idle": "2022-01-11T22:10:09.519391Z",
     "shell.execute_reply": "2022-01-11T22:10:09.518466Z",
     "shell.execute_reply.started": "2022-01-11T22:10:09.514663Z"
    }
   },
   "outputs": [],
   "source": [
    "# tokenize.word_index"
   ]
  },
  {
   "cell_type": "code",
   "execution_count": 93,
   "metadata": {
    "execution": {
     "iopub.execute_input": "2022-01-11T22:10:09.522045Z",
     "iopub.status.busy": "2022-01-11T22:10:09.521450Z",
     "iopub.status.idle": "2022-01-11T22:10:09.533325Z",
     "shell.execute_reply": "2022-01-11T22:10:09.532254Z",
     "shell.execute_reply.started": "2022-01-11T22:10:09.521978Z"
    }
   },
   "outputs": [],
   "source": [
    "tokenize.document_count"
   ]
  },
  {
   "cell_type": "code",
   "execution_count": 94,
   "metadata": {
    "execution": {
     "iopub.execute_input": "2022-01-11T22:10:09.535498Z",
     "iopub.status.busy": "2022-01-11T22:10:09.534970Z",
     "iopub.status.idle": "2022-01-11T22:10:11.070511Z",
     "shell.execute_reply": "2022-01-11T22:10:11.069002Z",
     "shell.execute_reply.started": "2022-01-11T22:10:09.535456Z"
    }
   },
   "outputs": [],
   "source": [
    "%%time\n",
    "text_train_sequences = sequence.pad_sequences(tokenize.texts_to_sequences(text_train), maxlen=MAX_SEQUENCE_LENGTH)\n",
    "text_test_sequences = sequence.pad_sequences(tokenize.texts_to_sequences(text_test), maxlen=MAX_SEQUENCE_LENGTH)\n",
    "text_sub_sequences = sequence.pad_sequences(tokenize.texts_to_sequences(text_sub), maxlen=MAX_SEQUENCE_LENGTH)\n",
    "\n",
    "print(text_train_sequences.shape, text_test_sequences.shape, text_sub_sequences.shape, )"
   ]
  },
  {
   "cell_type": "code",
   "execution_count": 95,
   "metadata": {
    "execution": {
     "iopub.execute_input": "2022-01-11T22:10:11.073540Z",
     "iopub.status.busy": "2022-01-11T22:10:11.073326Z",
     "iopub.status.idle": "2022-01-11T22:10:11.079191Z",
     "shell.execute_reply": "2022-01-11T22:10:11.078288Z",
     "shell.execute_reply.started": "2022-01-11T22:10:11.073514Z"
    }
   },
   "outputs": [],
   "source": [
    "# вот так теперь выглядит наш текст\n",
    "print(text_train.iloc[6])"
   ]
  },
  {
   "cell_type": "code",
   "execution_count": 96,
   "metadata": {
    "execution": {
     "iopub.execute_input": "2022-01-11T22:10:11.082014Z",
     "iopub.status.busy": "2022-01-11T22:10:11.080860Z",
     "iopub.status.idle": "2022-01-11T22:10:11.091015Z",
     "shell.execute_reply": "2022-01-11T22:10:11.090139Z",
     "shell.execute_reply.started": "2022-01-11T22:10:11.081972Z"
    }
   },
   "outputs": [],
   "source": [
    "len(text_train.iloc[6])"
   ]
  },
  {
   "cell_type": "code",
   "execution_count": 97,
   "metadata": {
    "execution": {
     "iopub.execute_input": "2022-01-11T22:10:11.093131Z",
     "iopub.status.busy": "2022-01-11T22:10:11.092690Z",
     "iopub.status.idle": "2022-01-11T22:10:11.101828Z",
     "shell.execute_reply": "2022-01-11T22:10:11.100836Z",
     "shell.execute_reply.started": "2022-01-11T22:10:11.093088Z"
    }
   },
   "outputs": [],
   "source": [
    "print(text_train_sequences[6])"
   ]
  },
  {
   "cell_type": "code",
   "execution_count": 98,
   "metadata": {
    "execution": {
     "iopub.execute_input": "2022-01-11T22:10:11.104165Z",
     "iopub.status.busy": "2022-01-11T22:10:11.103823Z",
     "iopub.status.idle": "2022-01-11T22:10:11.111625Z",
     "shell.execute_reply": "2022-01-11T22:10:11.110634Z",
     "shell.execute_reply.started": "2022-01-11T22:10:11.104123Z"
    }
   },
   "outputs": [],
   "source": [
    "len(text_train_sequences[6])"
   ]
  },
  {
   "cell_type": "markdown",
   "metadata": {},
   "source": [
    "### RNN NLP"
   ]
  },
  {
   "cell_type": "markdown",
   "metadata": {},
   "source": [
    "Добавили еще один полносвязный слой с 64 нейронами и с activation=\"sigmoid\" к модели  из BaseLine"
   ]
  },
  {
   "cell_type": "code",
   "execution_count": 99,
   "metadata": {
    "execution": {
     "iopub.execute_input": "2022-01-11T22:10:11.113958Z",
     "iopub.status.busy": "2022-01-11T22:10:11.113581Z",
     "iopub.status.idle": "2022-01-11T22:10:11.604822Z",
     "shell.execute_reply": "2022-01-11T22:10:11.604101Z",
     "shell.execute_reply.started": "2022-01-11T22:10:11.113920Z"
    }
   },
   "outputs": [],
   "source": [
    "# Модель для текстовой части (для признака 'description')\n",
    "model_nlp = Sequential()\n",
    "model_nlp.add(L.Input(shape=MAX_SEQUENCE_LENGTH, name=\"seq_description\"))\n",
    "model_nlp.add(L.Embedding(len(tokenize.word_index)+1, MAX_SEQUENCE_LENGTH,))\n",
    "# model_nlp.add(L.BatchNormalization(axis=1)) #добавим BatchNormalization\n",
    "model_nlp.add(L.LSTM(256, return_sequences=True))\n",
    "model_nlp.add(L.Dropout(0.5))\n",
    "model_nlp.add(L.Dense(64, activation=\"sigmoid\")) \n",
    "model_nlp.add(L.LSTM(128,))\n",
    "model_nlp.add(L.Dropout(0.25))\n",
    "model_nlp.add(L.Dense(64, activation=\"relu\"))\n",
    "model_nlp.add(L.Dropout(0.25))"
   ]
  },
  {
   "cell_type": "markdown",
   "metadata": {},
   "source": [
    "### MLP"
   ]
  },
  {
   "cell_type": "markdown",
   "metadata": {},
   "source": [
    " Добавили еще один полносвязный слой с 256 нейронами к модели  из BaseLine"
   ]
  },
  {
   "cell_type": "code",
   "execution_count": 100,
   "metadata": {
    "execution": {
     "iopub.execute_input": "2022-01-11T22:10:11.607297Z",
     "iopub.status.busy": "2022-01-11T22:10:11.606815Z",
     "iopub.status.idle": "2022-01-11T22:10:11.639490Z",
     "shell.execute_reply": "2022-01-11T22:10:11.638737Z",
     "shell.execute_reply.started": "2022-01-11T22:10:11.607258Z"
    }
   },
   "outputs": [],
   "source": [
    "# Модель для табличной части\n",
    "model_mlp = Sequential()\n",
    "model_mlp.add(L.Dense(512, input_dim=X_train.shape[1], activation=\"sigmoid\"))\n",
    "model_mlp.add(L.Dropout(0.5))\n",
    "model_mlp.add(L.Dense(256, activation=\"relu\"))\n",
    "# model_mlp.add(L.Dropout(0.5))\n",
    "model_mlp.add(L.Dense(256, activation=\"relu\"))\n",
    "# model_mlp.add(L.Dropout(0.5))"
   ]
  },
  {
   "cell_type": "markdown",
   "metadata": {},
   "source": [
    "### Multiple Inputs NN"
   ]
  },
  {
   "cell_type": "markdown",
   "metadata": {},
   "source": [
    "Объединим модели nlp, mlp в Multi-Input сеть с помощью L.concatenate"
   ]
  },
  {
   "cell_type": "code",
   "execution_count": 101,
   "metadata": {
    "execution": {
     "iopub.execute_input": "2022-01-11T22:10:11.641180Z",
     "iopub.status.busy": "2022-01-11T22:10:11.640931Z",
     "iopub.status.idle": "2022-01-11T22:10:11.667422Z",
     "shell.execute_reply": "2022-01-11T22:10:11.666761Z",
     "shell.execute_reply.started": "2022-01-11T22:10:11.641145Z"
    }
   },
   "outputs": [],
   "source": [
    "combinedInput = L.concatenate([model_nlp.output, model_mlp.output])\n",
    "# being our regression head\n",
    "head = L.Dense(128, activation=\"relu\")(combinedInput)\n",
    "head = L.Dense(1, activation=\"linear\")(head)\n",
    "\n",
    "model = Model(inputs=[model_nlp.input, model_mlp.input], outputs=head)"
   ]
  },
  {
   "cell_type": "code",
   "execution_count": 102,
   "metadata": {
    "execution": {
     "iopub.execute_input": "2022-01-11T22:10:11.669022Z",
     "iopub.status.busy": "2022-01-11T22:10:11.668762Z",
     "iopub.status.idle": "2022-01-11T22:10:11.672313Z",
     "shell.execute_reply": "2022-01-11T22:10:11.671641Z",
     "shell.execute_reply.started": "2022-01-11T22:10:11.668989Z"
    }
   },
   "outputs": [],
   "source": [
    "# model.summary()"
   ]
  },
  {
   "cell_type": "markdown",
   "metadata": {},
   "source": [
    "### Fit"
   ]
  },
  {
   "cell_type": "code",
   "execution_count": 103,
   "metadata": {
    "execution": {
     "iopub.execute_input": "2022-01-11T22:10:11.674436Z",
     "iopub.status.busy": "2022-01-11T22:10:11.673954Z",
     "iopub.status.idle": "2022-01-11T22:10:11.687000Z",
     "shell.execute_reply": "2022-01-11T22:10:11.686267Z",
     "shell.execute_reply.started": "2022-01-11T22:10:11.674394Z"
    }
   },
   "outputs": [],
   "source": [
    "optimizer = tf.keras.optimizers.Adam(0.01)\n",
    "model.compile(loss='MAPE',optimizer=optimizer, metrics=['MAPE'])"
   ]
  },
  {
   "cell_type": "code",
   "execution_count": 104,
   "metadata": {
    "execution": {
     "iopub.execute_input": "2022-01-11T22:10:11.690243Z",
     "iopub.status.busy": "2022-01-11T22:10:11.690005Z",
     "iopub.status.idle": "2022-01-11T22:10:11.695433Z",
     "shell.execute_reply": "2022-01-11T22:10:11.694686Z",
     "shell.execute_reply.started": "2022-01-11T22:10:11.690206Z"
    }
   },
   "outputs": [],
   "source": [
    "checkpoint = ModelCheckpoint('../working/best_model.hdf5', monitor='val_MAPE',\n",
    "                             save_best_only=True, verbose=0, mode='min')\n",
    "earlystop = EarlyStopping(monitor='val_MAPE', patience=10, restore_best_weights=True,)\n",
    "callbacks_list = [checkpoint, earlystop]"
   ]
  },
  {
   "cell_type": "code",
   "execution_count": 105,
   "metadata": {
    "execution": {
     "iopub.execute_input": "2022-01-11T22:10:11.697494Z",
     "iopub.status.busy": "2022-01-11T22:10:11.697038Z",
     "iopub.status.idle": "2022-01-11T22:12:27.818642Z",
     "shell.execute_reply": "2022-01-11T22:12:27.817828Z",
     "shell.execute_reply.started": "2022-01-11T22:10:11.697455Z"
    }
   },
   "outputs": [],
   "source": [
    "history = model.fit([text_train_sequences, X_train], y_train,\n",
    "                    batch_size=256,\n",
    "                    epochs=500, # фактически мы обучаем пока EarlyStopping не остановит обучение\n",
    "                    validation_data=([text_test_sequences, X_test], y_test),\n",
    "                    callbacks=callbacks_list\n",
    "                   )"
   ]
  },
  {
   "cell_type": "code",
   "execution_count": 106,
   "metadata": {
    "execution": {
     "iopub.execute_input": "2022-01-11T22:12:27.820183Z",
     "iopub.status.busy": "2022-01-11T22:12:27.819938Z",
     "iopub.status.idle": "2022-01-11T22:12:28.016646Z",
     "shell.execute_reply": "2022-01-11T22:12:28.015989Z",
     "shell.execute_reply.started": "2022-01-11T22:12:27.820148Z"
    }
   },
   "outputs": [],
   "source": [
    "plt.title('Loss')\n",
    "plt.plot(history.history['MAPE'], label='train')\n",
    "plt.plot(history.history['val_MAPE'], label='test')\n",
    "plt.show();"
   ]
  },
  {
   "cell_type": "code",
   "execution_count": 107,
   "metadata": {
    "execution": {
     "iopub.execute_input": "2022-01-11T22:12:28.018259Z",
     "iopub.status.busy": "2022-01-11T22:12:28.017901Z",
     "iopub.status.idle": "2022-01-11T22:12:28.181400Z",
     "shell.execute_reply": "2022-01-11T22:12:28.180672Z",
     "shell.execute_reply.started": "2022-01-11T22:12:28.018221Z"
    }
   },
   "outputs": [],
   "source": [
    "model.load_weights('../working/best_model.hdf5')\n",
    "model.save('../working/nn_mlp_nlp.hdf5')"
   ]
  },
  {
   "cell_type": "code",
   "execution_count": 108,
   "metadata": {
    "execution": {
     "iopub.execute_input": "2022-01-11T22:12:28.184215Z",
     "iopub.status.busy": "2022-01-11T22:12:28.183684Z",
     "iopub.status.idle": "2022-01-11T22:12:29.172297Z",
     "shell.execute_reply": "2022-01-11T22:12:29.171473Z",
     "shell.execute_reply.started": "2022-01-11T22:12:28.184166Z"
    }
   },
   "outputs": [],
   "source": [
    "test_predict_nn2 = model.predict([text_test_sequences, X_test])\n",
    "print(f\"TEST mape: {(mape(y_test, test_predict_nn2[:,0]))*100:0.2f}%\")"
   ]
  },
  {
   "cell_type": "code",
   "execution_count": 109,
   "metadata": {
    "execution": {
     "iopub.execute_input": "2022-01-11T22:12:29.174076Z",
     "iopub.status.busy": "2022-01-11T22:12:29.173745Z",
     "iopub.status.idle": "2022-01-11T22:12:29.847064Z",
     "shell.execute_reply": "2022-01-11T22:12:29.846317Z",
     "shell.execute_reply.started": "2022-01-11T22:12:29.174024Z"
    }
   },
   "outputs": [],
   "source": [
    "sub_predict_nn2 = model.predict([text_sub_sequences, X_sub])\n",
    "sample_submission['price'] = sub_predict_nn2[:,0]\n",
    "sample_submission.to_csv('nn2_submission.csv', index=False)"
   ]
  },
  {
   "cell_type": "markdown",
   "metadata": {},
   "source": [
    "Идеи для улучшения NLP части:\n",
    "\n",
    "* Выделить из описаний часто встречающиеся блоки текста, заменив их на кодовые слова или удалив\n",
    "* Сделать предобработку текста, например, сделать лемматизацию - алгоритм ставящий все слова в форму по умолчанию (глаголы в инфинитив и т. д.), чтобы токенайзер не преобразовывал разные формы слова в разные числа Статья по теме: https://habr.com/ru/company/Voximplant/blog/446738/\n",
    "* Поработать над алгоритмами очистки и аугментации текста"
   ]
  },
  {
   "cell_type": "markdown",
   "metadata": {},
   "source": [
    "### Model 5: Добавляем картинки"
   ]
  },
  {
   "cell_type": "markdown",
   "metadata": {},
   "source": [
    "#### Data"
   ]
  },
  {
   "cell_type": "code",
   "execution_count": 110,
   "metadata": {
    "execution": {
     "iopub.execute_input": "2022-01-11T22:14:37.012871Z",
     "iopub.status.busy": "2022-01-11T22:14:37.011967Z",
     "iopub.status.idle": "2022-01-11T22:14:37.820239Z",
     "shell.execute_reply": "2022-01-11T22:14:37.819610Z",
     "shell.execute_reply.started": "2022-01-11T22:14:37.012816Z"
    }
   },
   "outputs": [],
   "source": [
    "# убедимся, что цены и фото подгрузились верно\n",
    "plt.figure(figsize = (12,8))\n",
    "\n",
    "random_image = train.sample(n = 9)\n",
    "random_image_paths = random_image['sell_id'].values\n",
    "random_image_cat = random_image['price'].values\n",
    "\n",
    "for index, path in enumerate(random_image_paths):\n",
    "    im = PIL.Image.open(DATA_DIR+'img/img/' + str(path) + '.jpg')\n",
    "    plt.subplot(3, 3, index + 1)\n",
    "    plt.imshow(im)\n",
    "    plt.title('price: ' + str(random_image_cat[index]))\n",
    "    plt.axis('off')\n",
    "plt.show()"
   ]
  },
  {
   "cell_type": "code",
   "execution_count": 111,
   "metadata": {
    "execution": {
     "iopub.execute_input": "2022-01-11T22:14:37.822427Z",
     "iopub.status.busy": "2022-01-11T22:14:37.821975Z",
     "iopub.status.idle": "2022-01-11T22:14:37.829361Z",
     "shell.execute_reply": "2022-01-11T22:14:37.828481Z",
     "shell.execute_reply.started": "2022-01-11T22:14:37.822394Z"
    }
   },
   "outputs": [],
   "source": [
    "size = (320, 240)\n",
    "\n",
    "def get_image_array(index):\n",
    "    images_train = []\n",
    "    for index, sell_id in enumerate(data['sell_id'].iloc[index].values):\n",
    "        image = cv2.imread(DATA_DIR + 'img/img/' + str(sell_id) + '.jpg')\n",
    "        assert(image is not None)\n",
    "        image = cv2.resize(image, size)\n",
    "        images_train.append(image)\n",
    "    images_train = np.array(images_train)\n",
    "    print('images shape', images_train.shape, 'dtype', images_train.dtype)\n",
    "    return(images_train)"
   ]
  },
  {
   "cell_type": "code",
   "execution_count": 112,
   "metadata": {
    "execution": {
     "iopub.execute_input": "2022-01-11T22:14:37.831189Z",
     "iopub.status.busy": "2022-01-11T22:14:37.830647Z",
     "iopub.status.idle": "2022-01-11T22:16:21.247535Z",
     "shell.execute_reply": "2022-01-11T22:16:21.246626Z",
     "shell.execute_reply.started": "2022-01-11T22:14:37.831149Z"
    }
   },
   "outputs": [],
   "source": [
    "images_train = get_image_array(X_train.index)\n",
    "images_test = get_image_array(X_test.index)\n",
    "images_sub = get_image_array(X_sub.index)"
   ]
  },
  {
   "cell_type": "code",
   "execution_count": 113,
   "metadata": {
    "execution": {
     "iopub.execute_input": "2022-01-11T22:16:21.250961Z",
     "iopub.status.busy": "2022-01-11T22:16:21.249753Z",
     "iopub.status.idle": "2022-01-11T22:16:21.276774Z",
     "shell.execute_reply": "2022-01-11T22:16:21.275914Z",
     "shell.execute_reply.started": "2022-01-11T22:16:21.250917Z"
    }
   },
   "outputs": [],
   "source": [
    "X_train"
   ]
  },
  {
   "cell_type": "markdown",
   "metadata": {},
   "source": [
    "### albumentations"
   ]
  },
  {
   "cell_type": "code",
   "execution_count": 114,
   "metadata": {
    "execution": {
     "iopub.execute_input": "2022-01-11T22:16:21.278638Z",
     "iopub.status.busy": "2022-01-11T22:16:21.278255Z",
     "iopub.status.idle": "2022-01-11T22:16:21.283817Z",
     "shell.execute_reply": "2022-01-11T22:16:21.282928Z",
     "shell.execute_reply.started": "2022-01-11T22:16:21.278599Z"
    }
   },
   "outputs": [],
   "source": [
    "from albumentations import (\n",
    "    Compose, HorizontalFlip, Rotate, OneOf, MotionBlur, MedianBlur, Blur, \n",
    "    ShiftScaleRotate, OpticalDistortion, GridDistortion, PiecewiseAffine, \n",
    "    CenterCrop, RandomBrightnessContrast, \n",
    "    GaussianBlur, HueSaturationValue, RGBShift, FancyPCA, Resize\n",
    "    )"
   ]
  },
  {
   "cell_type": "code",
   "execution_count": 115,
   "metadata": {
    "execution": {
     "iopub.execute_input": "2022-01-11T22:16:21.285673Z",
     "iopub.status.busy": "2022-01-11T22:16:21.285209Z",
     "iopub.status.idle": "2022-01-11T22:16:21.296614Z",
     "shell.execute_reply": "2022-01-11T22:16:21.295802Z",
     "shell.execute_reply.started": "2022-01-11T22:16:21.285633Z"
    }
   },
   "outputs": [],
   "source": [
    "albumentation = Compose([\n",
    "    HorizontalFlip(p=0.5),\n",
    "    Rotate(limit=30, interpolation=1, border_mode=4,\n",
    "                          value=None, mask_value=None, always_apply=False, p=0.5),\n",
    "     OneOf([\n",
    "        MotionBlur(p=0.2),\n",
    "        MedianBlur(blur_limit=3, p=0.1),\n",
    "        Blur(blur_limit=3, p=0.1),\n",
    "    ], p=0.2),\n",
    "    ShiftScaleRotate(shift_limit=0.0625, scale_limit=0.2, rotate_limit=15, p=1),\n",
    "    OneOf([\n",
    "        OpticalDistortion(p=0.3),\n",
    "        GridDistortion(p=0.1),\n",
    "        PiecewiseAffine (p=0.3),\n",
    "    ], p=0.2),\n",
    "    OneOf([\n",
    "        CenterCrop(height=224, width=200),\n",
    "        CenterCrop(height=200, width=224),\n",
    "         RandomBrightnessContrast(\n",
    "            brightness_limit=0.3, contrast_limit=0.3),\n",
    "        RandomBrightnessContrast(\n",
    "            brightness_limit=0.1, contrast_limit=0.1)\n",
    "    ], p=0.5),\n",
    "    GaussianBlur(p=0.05),\n",
    "    HueSaturationValue(p=0.5),\n",
    "    RGBShift(p=0.5),\n",
    "    FancyPCA(alpha=0.1, always_apply=False, p=0.5),\n",
    "    Resize(240, 320)\n",
    "])"
   ]
  },
  {
   "cell_type": "code",
   "execution_count": 116,
   "metadata": {
    "execution": {
     "iopub.execute_input": "2022-01-11T22:16:21.298745Z",
     "iopub.status.busy": "2022-01-11T22:16:21.298301Z",
     "iopub.status.idle": "2022-01-11T22:16:22.099133Z",
     "shell.execute_reply": "2022-01-11T22:16:22.097692Z",
     "shell.execute_reply.started": "2022-01-11T22:16:21.298709Z"
    }
   },
   "outputs": [],
   "source": [
    "#пример\n",
    "plt.figure(figsize = (12,8))\n",
    "for i in range(9):\n",
    "    img = albumentation(image = images_train[0])['image']\n",
    "    plt.subplot(3, 3, i + 1)\n",
    "    plt.imshow(img)\n",
    "    plt.axis('off')\n",
    "plt.show()"
   ]
  },
  {
   "cell_type": "code",
   "execution_count": 117,
   "metadata": {
    "execution": {
     "iopub.execute_input": "2022-01-11T22:16:22.101160Z",
     "iopub.status.busy": "2022-01-11T22:16:22.100437Z",
     "iopub.status.idle": "2022-01-11T22:16:22.107858Z",
     "shell.execute_reply": "2022-01-11T22:16:22.107082Z",
     "shell.execute_reply.started": "2022-01-11T22:16:22.101117Z"
    }
   },
   "outputs": [],
   "source": [
    "def make_augmentations(images):\n",
    "    print('применение аугментаций', end = '')\n",
    "    augmented_images = np.empty(images.shape)\n",
    "    for i in range(images.shape[0]):\n",
    "        if i % 200 == 0:\n",
    "            print('.', end = '')\n",
    "        augment_dict = augmentation(image = images[i])\n",
    "        augmented_image = augment_dict['image']\n",
    "        augmented_images[i] = augmented_image\n",
    "    print('')\n",
    "    return augmented_images"
   ]
  },
  {
   "cell_type": "markdown",
   "metadata": {},
   "source": [
    "### tf.data.Dataset\n",
    "Если все изображения мы будем хранить в памяти, то может возникнуть проблема ее нехватки. Не храните все изображения в памяти целиком!\n",
    "\n",
    "Метод **.fit()** модели keras может принимать либо данные в виде массивов или тензоров, либо разного рода итераторы, из которых наиболее современным и гибким является **tf.data.Dataset**. Он представляет собой конвейер, то есть мы указываем, откуда берем данные и какую цепочку преобразований с ними выполняем. Далее мы будем работать с **tf.data.Dataset**.\n",
    "\n",
    "**Dataset** хранит информацию о конечном или бесконечном наборе **кортежей (tuple)** с данными и может возвращать эти наборы по очереди. Например, данными могут быть пары **(input, target)** для обучения нейросети. С данными можно осуществлять преобразования, которые осуществляются по мере необходимости (lazy evaluation).\n",
    "\n",
    "**tf.data.Dataset.from_tensor_slices(data)** - создает датасет из данных, которые представляют собой либо массив, либо кортеж из массивов. Деление осуществляется по первому индексу каждого массива. Например, если **data = (np.zeros((128, 256, 256)), np.zeros(128))**, то датасет будет содержать **128** элементов, каждый из которых содержит один массив **256x256** и одно число.\n",
    "\n",
    "**dataset2 = dataset1.map(func)** - применение функции к датасету; функция должна принимать столько аргументов, каков размер кортежа в **датасете 1** и возвращать столько, сколько нужно иметь в **датасете 2**. Пусть, например, датасет содержит изображения и метки, а нам нужно создать датасет только из изображений, тогда мы напишем так: \n",
    "**dataset2 = dataset.map(lambda img, label: img)**.\n",
    "\n",
    "**dataset2 = dataset1.batch(8)** - группировка по батчам; если **датасет 2** должен вернуть один элемент, то он берет из **датасета 1** восемь элементов, склеивает их (нулевой индекс результата - номер элемента) и возвращает.\n",
    "\n",
    "**dataset.__iter__()** - превращение датасета в итератор, из которого можно получать элементы методом **.__next__()**. Итератор, в отличие от самого датасета, хранит позицию текущего элемента. Можно также перебирать датасет циклом **for**.\n",
    "\n",
    "* **dataset2 = dataset1.repeat(X)** - **датасет 2** будет повторять **датасет 1** **X** раз.\n",
    "\n",
    "Если нам нужно взять из датасета **1000** элементов и использовать их как тестовые, а остальные как обучающие, то мы напишем так:\n",
    "\n",
    "* **test_dataset = dataset.take(1000)**\n",
    "* **train_dataset = dataset.skip(1000)**\n",
    "\n",
    "Датасет по сути неизменен: такие операции, как **map, batch, repeat, take, skip**  никак не затрагивают оригинальный датасет. Если датасет хранит элементы **[1, 2, 3]**, то выполнив **3** раза подряд функцию **dataset.take(1)** мы получим 3 новых датасета, каждый из которых вернет число **1**. Если же мы выполним функцию **dataset.skip(1)**, мы получим датасет, возвращающий числа **[2, 3]**, но исходный датасет все равно будет возвращать **[1, 2, 3]** каждый раз, когда мы его перебираем.\n",
    "\n",
    "**tf.Dataset** всегда выполняется в **graph**-режиме (в противоположность **eager**-режиму), поэтому либо преобразования (**.map()**) должны содержать только tensorflow-функции, либо мы должны использовать **tf.py_function** в качестве обертки для функций, вызываемых в **.map()**. Подробнее можно прочитать здесь."
   ]
  },
  {
   "cell_type": "code",
   "execution_count": 118,
   "metadata": {
    "execution": {
     "iopub.execute_input": "2022-01-11T22:16:22.109452Z",
     "iopub.status.busy": "2022-01-11T22:16:22.109134Z",
     "iopub.status.idle": "2022-01-11T22:16:23.277335Z",
     "shell.execute_reply": "2022-01-11T22:16:23.276539Z",
     "shell.execute_reply.started": "2022-01-11T22:16:22.109418Z"
    }
   },
   "outputs": [],
   "source": [
    "# NLP part\n",
    "tokenize = Tokenizer(num_words=MAX_WORDS)\n",
    "tokenize.fit_on_texts(df_preproc.description)"
   ]
  },
  {
   "cell_type": "code",
   "execution_count": 119,
   "metadata": {
    "execution": {
     "iopub.execute_input": "2022-01-11T22:16:23.280902Z",
     "iopub.status.busy": "2022-01-11T22:16:23.280637Z",
     "iopub.status.idle": "2022-01-11T22:16:23.284231Z",
     "shell.execute_reply": "2022-01-11T22:16:23.283463Z",
     "shell.execute_reply.started": "2022-01-11T22:16:23.280867Z"
    }
   },
   "outputs": [],
   "source": [
    "# tokenize.word_index"
   ]
  },
  {
   "cell_type": "code",
   "execution_count": 120,
   "metadata": {
    "execution": {
     "iopub.execute_input": "2022-01-11T22:16:23.285940Z",
     "iopub.status.busy": "2022-01-11T22:16:23.285648Z",
     "iopub.status.idle": "2022-01-11T22:16:23.296219Z",
     "shell.execute_reply": "2022-01-11T22:16:23.295463Z",
     "shell.execute_reply.started": "2022-01-11T22:16:23.285903Z"
    }
   },
   "outputs": [],
   "source": [
    "def process_image(image):\n",
    "    return albumentation(image = image.numpy())['image']\n",
    "\n",
    "def tokenize_(descriptions):\n",
    "    return sequence.pad_sequences(tokenize.texts_to_sequences(descriptions), maxlen = MAX_SEQUENCE_LENGTH)\n",
    "\n",
    "def tokenize_text(text):\n",
    "    return tokenize_([text.numpy().decode('utf-8')])[0]\n",
    "\n",
    "def tf_process_train_dataset_element(image, table_data, text, price):\n",
    "    im_shape = image.shape\n",
    "    [image,] = tf.py_function(process_image, [image], [tf.uint8])\n",
    "    image.set_shape(im_shape)\n",
    "    [text,] = tf.py_function(tokenize_text, [text], [tf.int32])\n",
    "    return (image, table_data, text), price\n",
    "\n",
    "def tf_process_val_dataset_element(image, table_data, text, price):\n",
    "    [text,] = tf.py_function(tokenize_text, [text], [tf.int32])\n",
    "    return (image, table_data, text), price\n"
   ]
  },
  {
   "cell_type": "code",
   "execution_count": 121,
   "metadata": {
    "execution": {
     "iopub.execute_input": "2022-01-11T22:16:23.298264Z",
     "iopub.status.busy": "2022-01-11T22:16:23.297957Z",
     "iopub.status.idle": "2022-01-11T22:16:27.021241Z",
     "shell.execute_reply": "2022-01-11T22:16:27.020463Z",
     "shell.execute_reply.started": "2022-01-11T22:16:23.298224Z"
    }
   },
   "outputs": [],
   "source": [
    "train_dataset = tf.data.Dataset.from_tensor_slices((\n",
    "    images_train, X_train, data.description.iloc[X_train.index], y_train\n",
    "    )).map(tf_process_train_dataset_element)\n",
    "\n",
    "test_dataset = tf.data.Dataset.from_tensor_slices((\n",
    "    images_test, X_test, data.description.iloc[X_test.index], y_test\n",
    "    )).map(tf_process_val_dataset_element)\n",
    "\n",
    "y_sub = np.zeros(len(X_sub))\n",
    "sub_dataset = tf.data.Dataset.from_tensor_slices((\n",
    "    images_sub, X_sub, data.description.iloc[X_sub.index], y_sub\n",
    "    )).map(tf_process_val_dataset_element)"
   ]
  },
  {
   "cell_type": "code",
   "execution_count": 122,
   "metadata": {
    "execution": {
     "iopub.execute_input": "2022-01-11T22:16:27.022963Z",
     "iopub.status.busy": "2022-01-11T22:16:27.022668Z",
     "iopub.status.idle": "2022-01-11T22:16:27.028382Z",
     "shell.execute_reply": "2022-01-11T22:16:27.027315Z",
     "shell.execute_reply.started": "2022-01-11T22:16:27.022924Z"
    }
   },
   "outputs": [],
   "source": [
    "'''\n",
    "gpu_devices = tf.config.experimental.list_physical_devices('GPU')\n",
    "for device in gpu_devices\n",
    "    tf.config.experimental.set_memory_growth(device, True)\n",
    "    \n",
    "for a in /sys/bus/pci/devices/*; do echo 0 | sudo tee -a $a/numa_node; done\n",
    "'''     "
   ]
  },
  {
   "cell_type": "code",
   "execution_count": 123,
   "metadata": {
    "execution": {
     "iopub.execute_input": "2022-01-11T22:16:27.030325Z",
     "iopub.status.busy": "2022-01-11T22:16:27.029881Z",
     "iopub.status.idle": "2022-01-11T22:16:27.039262Z",
     "shell.execute_reply": "2022-01-11T22:16:27.038560Z",
     "shell.execute_reply.started": "2022-01-11T22:16:27.030284Z"
    }
   },
   "outputs": [],
   "source": [
    "#проверяем, что нет ошибок (не будет выброшено исключение):\n",
    "#train_dataset.__iter__().__next__();\n",
    "#test_dataset.__iter__().__next__();\n",
    "#sub_dataset.__iter__().__next__();"
   ]
  },
  {
   "cell_type": "code",
   "execution_count": 124,
   "metadata": {
    "execution": {
     "iopub.execute_input": "2022-01-11T22:16:27.041135Z",
     "iopub.status.busy": "2022-01-11T22:16:27.040725Z",
     "iopub.status.idle": "2022-01-11T22:16:27.048197Z",
     "shell.execute_reply": "2022-01-11T22:16:27.047344Z",
     "shell.execute_reply.started": "2022-01-11T22:16:27.041086Z"
    }
   },
   "outputs": [],
   "source": [
    "#train_dataset.__iter__().__next__();"
   ]
  },
  {
   "cell_type": "code",
   "execution_count": 125,
   "metadata": {
    "execution": {
     "iopub.execute_input": "2022-01-11T22:16:27.051573Z",
     "iopub.status.busy": "2022-01-11T22:16:27.051031Z",
     "iopub.status.idle": "2022-01-11T22:16:27.056870Z",
     "shell.execute_reply": "2022-01-11T22:16:27.056020Z",
     "shell.execute_reply.started": "2022-01-11T22:16:27.051531Z"
    }
   },
   "outputs": [],
   "source": [
    "#test_dataset.__iter__().__next__()"
   ]
  },
  {
   "cell_type": "code",
   "execution_count": 126,
   "metadata": {
    "execution": {
     "iopub.execute_input": "2022-01-11T22:16:27.058938Z",
     "iopub.status.busy": "2022-01-11T22:16:27.058582Z",
     "iopub.status.idle": "2022-01-11T22:16:27.065877Z",
     "shell.execute_reply": "2022-01-11T22:16:27.065037Z",
     "shell.execute_reply.started": "2022-01-11T22:16:27.058897Z"
    }
   },
   "outputs": [],
   "source": [
    "#sub_dataset.__iter__().__next__()"
   ]
  },
  {
   "cell_type": "markdown",
   "metadata": {},
   "source": [
    "#### Строим сверточную сеть для анализа изображений без \"головы\""
   ]
  },
  {
   "cell_type": "code",
   "execution_count": 127,
   "metadata": {
    "execution": {
     "iopub.execute_input": "2022-01-11T22:16:27.067929Z",
     "iopub.status.busy": "2022-01-11T22:16:27.067535Z",
     "iopub.status.idle": "2022-01-11T22:16:30.318768Z",
     "shell.execute_reply": "2022-01-11T22:16:30.317976Z",
     "shell.execute_reply.started": "2022-01-11T22:16:27.067891Z"
    }
   },
   "outputs": [],
   "source": [
    "# Нормализация включена в состав модели EfficientNetB3, \n",
    "# поэтому на вход она принимает данные типа uint8\n",
    "efficientnet_model = tf.keras.applications.efficientnet.EfficientNetB3(weights = 'imagenet', \n",
    "                                    include_top = False, input_shape = (size[1], size[0], 3))"
   ]
  },
  {
   "cell_type": "code",
   "execution_count": 128,
   "metadata": {
    "execution": {
     "iopub.execute_input": "2022-01-11T22:16:30.320671Z",
     "iopub.status.busy": "2022-01-11T22:16:30.320394Z",
     "iopub.status.idle": "2022-01-11T22:16:30.344748Z",
     "shell.execute_reply": "2022-01-11T22:16:30.343814Z",
     "shell.execute_reply.started": "2022-01-11T22:16:30.320633Z"
    }
   },
   "outputs": [],
   "source": [
    "# В начале отметим обучаемыми все слои\n",
    "efficientnet_model.trainable = True\n",
    "\n",
    "# Вычислим количества половины слоев\n",
    "fine_tune_at = len(efficientnet_model.layers)//2\n",
    "\n",
    "# Все первые половины слоев оставим замороженными\n",
    "for layer in efficientnet_model.layers[:fine_tune_at]:\n",
    "    layer.trainable =  False"
   ]
  },
  {
   "cell_type": "code",
   "execution_count": 129,
   "metadata": {
    "execution": {
     "iopub.execute_input": "2022-01-11T22:16:30.346677Z",
     "iopub.status.busy": "2022-01-11T22:16:30.345920Z",
     "iopub.status.idle": "2022-01-11T22:16:30.356846Z",
     "shell.execute_reply": "2022-01-11T22:16:30.355740Z",
     "shell.execute_reply.started": "2022-01-11T22:16:30.346636Z"
    }
   },
   "outputs": [],
   "source": [
    "# проверим количество\n",
    "print(len(efficientnet_model.layers))\n",
    "\n",
    "# проверим статус слоев\n",
    "# for layer in efficientnet_model.layers:\n",
    "#    print(layer, layer.trainable)"
   ]
  },
  {
   "cell_type": "code",
   "execution_count": 130,
   "metadata": {
    "execution": {
     "iopub.execute_input": "2022-01-11T22:16:30.358591Z",
     "iopub.status.busy": "2022-01-11T22:16:30.358183Z",
     "iopub.status.idle": "2022-01-11T22:16:30.368934Z",
     "shell.execute_reply": "2022-01-11T22:16:30.368179Z",
     "shell.execute_reply.started": "2022-01-11T22:16:30.358550Z"
    }
   },
   "outputs": [],
   "source": [
    "efficientnet_output = L.GlobalAveragePooling2D()(efficientnet_model.output)"
   ]
  },
  {
   "cell_type": "code",
   "execution_count": 131,
   "metadata": {
    "execution": {
     "iopub.execute_input": "2022-01-11T22:16:30.371506Z",
     "iopub.status.busy": "2022-01-11T22:16:30.370359Z",
     "iopub.status.idle": "2022-01-11T22:16:30.404602Z",
     "shell.execute_reply": "2022-01-11T22:16:30.403930Z",
     "shell.execute_reply.started": "2022-01-11T22:16:30.371466Z"
    }
   },
   "outputs": [],
   "source": [
    "# Модель для табличной части\n",
    "tabular_model = Sequential([\n",
    "    L.Input(shape = X_train.shape[1]),\n",
    "    L.Dense(512, activation = 'sigmoid'),# изменили функцию activation\n",
    "    L.Dropout(0.5),\n",
    "    L.Dense(256, activation = 'relu'),\n",
    "    # L.Dropout(0.5),\n",
    "    L.Dense(256, activation = 'relu'),\n",
    "    # L.Dropout(0.5)\n",
    "    ])"
   ]
  },
  {
   "cell_type": "code",
   "execution_count": 132,
   "metadata": {
    "execution": {
     "iopub.execute_input": "2022-01-11T22:16:30.406147Z",
     "iopub.status.busy": "2022-01-11T22:16:30.405902Z",
     "iopub.status.idle": "2022-01-11T22:16:30.894670Z",
     "shell.execute_reply": "2022-01-11T22:16:30.893954Z",
     "shell.execute_reply.started": "2022-01-11T22:16:30.406115Z"
    }
   },
   "outputs": [],
   "source": [
    "# NLP Модель для текстовой части\n",
    "nlp_model = Sequential([\n",
    "    L.Input(shape=MAX_SEQUENCE_LENGTH, name=\"seq_description\"),\n",
    "    L.Embedding(len(tokenize.word_index)+1, MAX_SEQUENCE_LENGTH),\n",
    "    # L.LayerNormalization(), #добавили нормализацию\n",
    "    L.LSTM(256, return_sequences=True),\n",
    "    L.Dropout(0.5),\n",
    "    L.Dense(128, activation = 'sigmoid'), #добавили полносвязный слой с функцией активации sigmoid\n",
    "    L.Dropout(0.5),\n",
    "    L.LSTM(128),\n",
    "    L.Dropout(0.25),\n",
    "    L.Dense(64),\n",
    "    ])"
   ]
  },
  {
   "cell_type": "code",
   "execution_count": 133,
   "metadata": {
    "execution": {
     "iopub.execute_input": "2022-01-11T22:16:30.896304Z",
     "iopub.status.busy": "2022-01-11T22:16:30.896053Z",
     "iopub.status.idle": "2022-01-11T22:16:30.948211Z",
     "shell.execute_reply": "2022-01-11T22:16:30.947568Z",
     "shell.execute_reply.started": "2022-01-11T22:16:30.896269Z"
    }
   },
   "outputs": [],
   "source": [
    "# Функциональная модель\n",
    "# Объединяем выходы трех нейросетей\n",
    "combinedInput = L.concatenate([efficientnet_output, \n",
    "                               tabular_model.output, nlp_model.output])\n",
    "\n",
    "# being our regression head\n",
    "head = L.Dense(256, activation=\"relu\")(combinedInput)\n",
    "head = L.Dense(1,)(head)\n",
    "\n",
    "model = Model(inputs=[efficientnet_model.input, \n",
    "                      tabular_model.input, nlp_model.input], outputs=head)\n",
    "# model.summary()"
   ]
  },
  {
   "cell_type": "code",
   "execution_count": 134,
   "metadata": {
    "collapsed": true,
    "execution": {
     "iopub.execute_input": "2022-01-11T22:16:30.949985Z",
     "iopub.status.busy": "2022-01-11T22:16:30.949733Z",
     "iopub.status.idle": "2022-01-11T22:16:31.155522Z",
     "shell.execute_reply": "2022-01-11T22:16:31.154837Z",
     "shell.execute_reply.started": "2022-01-11T22:16:30.949953Z"
    },
    "jupyter": {
     "outputs_hidden": true
    }
   },
   "outputs": [],
   "source": [
    "# объединяем выходы трех нейросетей\n",
    "combinedInput = L.concatenate([efficientnet_output, \n",
    "                               tabular_model.output, nlp_model.output])\n",
    "\n",
    "# being our regression head\n",
    "head = L.Dense(256, activation=\"relu\")(combinedInput)\n",
    "head = L.Dense(1,)(head)\n",
    "\n",
    "model = Model(inputs=[efficientnet_model.input,\n",
    "                      tabular_model.input, nlp_model.input], outputs=head)\n",
    "model.summary()"
   ]
  },
  {
   "cell_type": "code",
   "execution_count": 135,
   "metadata": {
    "execution": {
     "iopub.execute_input": "2022-01-11T22:16:31.157084Z",
     "iopub.status.busy": "2022-01-11T22:16:31.156750Z",
     "iopub.status.idle": "2022-01-11T22:16:31.173698Z",
     "shell.execute_reply": "2022-01-11T22:16:31.172908Z",
     "shell.execute_reply.started": "2022-01-11T22:16:31.157046Z"
    }
   },
   "outputs": [],
   "source": [
    "optimizer = tf.keras.optimizers.Adam(0.005)\n",
    "model.compile(loss='MAPE',optimizer=optimizer, metrics=['MAPE'])"
   ]
  },
  {
   "cell_type": "code",
   "execution_count": 136,
   "metadata": {
    "execution": {
     "iopub.execute_input": "2022-01-11T22:16:31.175486Z",
     "iopub.status.busy": "2022-01-11T22:16:31.175138Z",
     "iopub.status.idle": "2022-01-11T22:16:31.179740Z",
     "shell.execute_reply": "2022-01-11T22:16:31.179024Z",
     "shell.execute_reply.started": "2022-01-11T22:16:31.175449Z"
    }
   },
   "outputs": [],
   "source": [
    "# Применим ExponentialDecay для управления learning rate\n",
    "initial_learning_rate = 0.1\n",
    "lr_schedule = tf.keras.optimizers.schedules.ExponentialDecay(\n",
    "                initial_learning_rate, decay_steps=100, decay_rate=0.9)"
   ]
  },
  {
   "cell_type": "code",
   "execution_count": 137,
   "metadata": {
    "execution": {
     "iopub.execute_input": "2022-01-11T22:16:31.184992Z",
     "iopub.status.busy": "2022-01-11T22:16:31.184315Z",
     "iopub.status.idle": "2022-01-11T22:16:31.190282Z",
     "shell.execute_reply": "2022-01-11T22:16:31.189545Z",
     "shell.execute_reply.started": "2022-01-11T22:16:31.184952Z"
    }
   },
   "outputs": [],
   "source": [
    "checkpoint = ModelCheckpoint('../working/best_model.hdf5', monitor='val_MAPE',\n",
    "                             save_best_only=True, verbose=0, mode='min')\n",
    "earlystop = EarlyStopping(monitor='val_MAPE', patience=10, restore_best_weights=True,)\n",
    "callbacks_list = [checkpoint, earlystop]\n"
   ]
  },
  {
   "cell_type": "code",
   "execution_count": 138,
   "metadata": {
    "execution": {
     "iopub.execute_input": "2022-01-11T22:16:31.192005Z",
     "iopub.status.busy": "2022-01-11T22:16:31.191558Z",
     "iopub.status.idle": "2022-01-12T01:08:16.058627Z",
     "shell.execute_reply": "2022-01-12T01:08:16.057810Z",
     "shell.execute_reply.started": "2022-01-11T22:16:31.191971Z"
    }
   },
   "outputs": [],
   "source": [
    "history = model.fit(train_dataset.batch(30),\n",
    "                    epochs=100,\n",
    "                    validation_data = test_dataset.batch(30),\n",
    "                    callbacks=callbacks_list\n",
    "                   )"
   ]
  },
  {
   "cell_type": "code",
   "execution_count": 139,
   "metadata": {
    "execution": {
     "iopub.execute_input": "2022-01-12T01:08:16.060435Z",
     "iopub.status.busy": "2022-01-12T01:08:16.060164Z",
     "iopub.status.idle": "2022-01-12T01:08:16.251318Z",
     "shell.execute_reply": "2022-01-12T01:08:16.250620Z",
     "shell.execute_reply.started": "2022-01-12T01:08:16.060398Z"
    }
   },
   "outputs": [],
   "source": [
    "plt.title('Loss')\n",
    "plt.plot(history.history['MAPE'], label='train')\n",
    "plt.plot(history.history['val_MAPE'], label='test')\n",
    "plt.show();"
   ]
  },
  {
   "cell_type": "code",
   "execution_count": 140,
   "metadata": {
    "execution": {
     "iopub.execute_input": "2022-01-12T01:08:16.253241Z",
     "iopub.status.busy": "2022-01-12T01:08:16.252717Z",
     "iopub.status.idle": "2022-01-12T01:08:17.778854Z",
     "shell.execute_reply": "2022-01-12T01:08:17.778063Z",
     "shell.execute_reply.started": "2022-01-12T01:08:16.253201Z"
    }
   },
   "outputs": [],
   "source": [
    "model.load_weights('../working/best_model.hdf5')\n",
    "model.save('../working/nn_final.hdf5')"
   ]
  },
  {
   "cell_type": "code",
   "execution_count": 141,
   "metadata": {
    "execution": {
     "iopub.execute_input": "2022-01-12T01:08:17.780871Z",
     "iopub.status.busy": "2022-01-12T01:08:17.780589Z",
     "iopub.status.idle": "2022-01-12T01:08:24.416776Z",
     "shell.execute_reply": "2022-01-12T01:08:24.414971Z",
     "shell.execute_reply.started": "2022-01-12T01:08:17.780829Z"
    }
   },
   "outputs": [],
   "source": [
    "test_predict_nn3 = model.predict(test_dataset.batch(30))\n",
    "print(f\"TEST mape: {(mape(y_test, test_predict_nn3[:,0]))*100:0.2f}%\")"
   ]
  },
  {
   "cell_type": "code",
   "execution_count": 142,
   "metadata": {
    "execution": {
     "iopub.execute_input": "2022-01-12T01:08:24.418813Z",
     "iopub.status.busy": "2022-01-12T01:08:24.418500Z",
     "iopub.status.idle": "2022-01-12T01:08:30.822373Z",
     "shell.execute_reply": "2022-01-12T01:08:30.821679Z",
     "shell.execute_reply.started": "2022-01-12T01:08:24.418757Z"
    }
   },
   "outputs": [],
   "source": [
    "sub_predict_nn3 = model.predict(sub_dataset.batch(30))\n",
    "sample_submission['price'] = sub_predict_nn3[:,0]\n",
    "sample_submission.to_csv('nn3_submission.csv', index=False)"
   ]
  },
  {
   "cell_type": "markdown",
   "metadata": {},
   "source": [
    "#### Общие рекомендации:\n",
    "* Попробовать разные архитектуры\n",
    "* Провести более детальный анализ результатов\n",
    "* Попробовать различные подходы в управление LR и оптимизаторы\n",
    "* Поработать с таргетом\n",
    "* Использовать Fine-tuning"
   ]
  },
  {
   "cell_type": "markdown",
   "metadata": {},
   "source": [
    "#### Tabular\n",
    "* В нейросеть желательно подавать данные с распределением, близким к нормальному, поэтому от некоторых числовых признаков имеет смысл взять логарифм перед нормализацией. Пример: modelDateNorm = np.log(2020 - data['modelDate']) Статья по теме: https://habr.com/ru/company/ods/blog/325422\n",
    " \n",
    "* Извлечение числовых значений из текста: Парсинг признаков 'engineDisplacement', 'enginePower', 'Владение' для извлечения числовых значений.\n",
    " \n",
    "* Cокращение размерности категориальных признаков Признак name 'name' содержит данные, которые уже есть в других столбцах ('enginePower', 'engineDisplacement', 'vehicleTransmission'). Можно удалить эти данные. Затем можно еще сильнее сократить размерность, например выделив наличие xDrive в качестве отдельного признака.\n",
    " \n",
    "* Поработать над Feature engineering"
   ]
  },
  {
   "cell_type": "markdown",
   "metadata": {},
   "source": [
    "#### NLP\n",
    "* Выделить из описаний часто встречающиеся блоки текста, заменив их на кодовые слова или удалив\n",
    "* Сделать предобработку текста, например сделать лемматизацию - алгоритм ставящий все слова в форму по умолчанию (глаголы в инфинитив и т. д.), чтобы токенайзер не преобразовывал разные формы слова в разные числа Статья по теме: https://habr.com/ru/company/Voximplant/blog/446738/\n",
    "* Поработать над алгоритмами очистки и аугментации текста"
   ]
  },
  {
   "cell_type": "markdown",
   "metadata": {},
   "source": [
    "#### CV\n",
    "* Попробовать различные аугментации\n",
    "* Fine-tuning"
   ]
  },
  {
   "cell_type": "markdown",
   "metadata": {},
   "source": [
    "### Blend"
   ]
  },
  {
   "cell_type": "code",
   "execution_count": 143,
   "metadata": {
    "execution": {
     "iopub.execute_input": "2022-01-12T01:08:30.824246Z",
     "iopub.status.busy": "2022-01-12T01:08:30.823737Z",
     "iopub.status.idle": "2022-01-12T01:08:30.829726Z",
     "shell.execute_reply": "2022-01-12T01:08:30.829049Z",
     "shell.execute_reply.started": "2022-01-12T01:08:30.824210Z"
    }
   },
   "outputs": [],
   "source": [
    "blend_predict = (test_predict_catboost + test_predict_nn3[:,0]) / 2\n",
    "print(f\"TEST mape: {(mape(y_test, blend_predict))*100:0.2f}%\")"
   ]
  },
  {
   "cell_type": "code",
   "execution_count": 144,
   "metadata": {
    "execution": {
     "iopub.execute_input": "2022-01-12T01:08:30.832003Z",
     "iopub.status.busy": "2022-01-12T01:08:30.831299Z",
     "iopub.status.idle": "2022-01-12T01:08:30.846408Z",
     "shell.execute_reply": "2022-01-12T01:08:30.845756Z",
     "shell.execute_reply.started": "2022-01-12T01:08:30.831966Z"
    }
   },
   "outputs": [],
   "source": [
    "blend_sub_predict = (sub_predict_catboost + sub_predict_nn3[:,0]) / 2\n",
    "sample_submission['price'] = blend_sub_predict\n",
    "sample_submission.to_csv('blend_submission.csv', index=False)"
   ]
  },
  {
   "cell_type": "markdown",
   "metadata": {},
   "source": [
    "\n",
    "## Выводы:¶\n",
    "Выполнено очищение данных, их анализ, обработка и подготовка для дальнейшей работы. \n",
    "\n",
    "Над датасет проведена предварительная обработка, выполнена нормализация, использовались  методы кодирования категориальных признаков. \n",
    "\n",
    "Подготовлены дополнительные признаки. По итогам анализа, некоторые признаки удалены, (и на основе анализа корреляции). \n",
    "\n",
    "Проведены испытании с разными схемами подготовки числовых признаков.\n",
    "\n",
    "Использовались классические методы обработки текста. В модели применялась токенизация и лемматизация. Результат Model 4: Test_MAPE = **10.71%**\n",
    "\n",
    "Для использования в моделях изображении в основном использованы предложенные схемы в BaseLine и с использованием tf.data.Dataset. Однако, при объединении числовых, текстовых и изображении проверка с помощью предлагаемой инструкции (test_dataset.__iter__().__next__();\n",
    "#sub_dataset.__iter__().__next__();) дает сбой, несмотря на уменьшение batch_size\n",
    "\n",
    "Провели испытании с разными схемами аугментации на основе библиотеки albumentation.\n",
    "\n",
    "Были проведены эксперименты с другими типовыми моделями EfficientNet, часть из которых приводила к переобучению. Были получены не очень хорошие результаты. TEST mape **10.99%**. Слишком большие зиг-заги метрики.\n",
    "\n",
    "Придерживалась единая  архитектура предыдущей модели для последующих, т.е. модели для числовых таблиц  текстового признака единтичны для других моделей.\n",
    "\n",
    "По итогам блендирования получились не хороших результатов метрики **10.52%**: . \n",
    "\n",
    "Что на данный момент соответствует 22 месту в лидерборде с метрикой модели: **10.93%**."
   ]
  },
  {
   "cell_type": "markdown",
   "metadata": {},
   "source": [
    "## Model Bonus: проброс признака"
   ]
  },
  {
   "cell_type": "code",
   "execution_count": 145,
   "metadata": {
    "execution": {
     "iopub.execute_input": "2022-01-12T01:08:30.847896Z",
     "iopub.status.busy": "2022-01-12T01:08:30.847636Z",
     "iopub.status.idle": "2022-01-12T01:08:30.876829Z",
     "shell.execute_reply": "2022-01-12T01:08:30.876232Z",
     "shell.execute_reply.started": "2022-01-12T01:08:30.847863Z"
    }
   },
   "outputs": [],
   "source": [
    "# MLP\n",
    "model_mlp = Sequential()\n",
    "model_mlp.add(L.Dense(512, input_dim=X_train.shape[1], activation=\"relu\"))\n",
    "model_mlp.add(L.Dropout(0.5))\n",
    "model_mlp.add(L.Dense(256, activation=\"relu\"))\n",
    "model_mlp.add(L.Dropout(0.5))"
   ]
  },
  {
   "cell_type": "code",
   "execution_count": 146,
   "metadata": {
    "execution": {
     "iopub.execute_input": "2022-01-12T01:08:30.878094Z",
     "iopub.status.busy": "2022-01-12T01:08:30.877772Z",
     "iopub.status.idle": "2022-01-12T01:08:30.900548Z",
     "shell.execute_reply": "2022-01-12T01:08:30.899915Z",
     "shell.execute_reply.started": "2022-01-12T01:08:30.878058Z"
    }
   },
   "outputs": [],
   "source": [
    "# FEATURE Input\n",
    "# Iput\n",
    "productiondate = L.Input(shape=[1], name=\"productiondate\")\n",
    "# Embeddings layers\n",
    "emb_productiondate = L.Embedding(len(X.productionDate.unique().tolist())+1, 20)(productiondate)\n",
    "f_productiondate = L.Flatten()(emb_productiondate)"
   ]
  },
  {
   "cell_type": "code",
   "execution_count": 147,
   "metadata": {
    "execution": {
     "iopub.execute_input": "2022-01-12T01:08:30.901913Z",
     "iopub.status.busy": "2022-01-12T01:08:30.901588Z",
     "iopub.status.idle": "2022-01-12T01:08:30.933977Z",
     "shell.execute_reply": "2022-01-12T01:08:30.933287Z",
     "shell.execute_reply.started": "2022-01-12T01:08:30.901875Z"
    }
   },
   "outputs": [],
   "source": [
    "combinedInput = L.concatenate([model_mlp.output, f_productiondate,])\n",
    "# being our regression head\n",
    "head = L.Dense(64, activation=\"relu\")(combinedInput)\n",
    "head = L.Dense(1, activation=\"linear\")(head)\n",
    "\n",
    "model = Model(inputs=[model_mlp.input, productiondate], outputs=head)\n",
    "\n",
    "model.summary()"
   ]
  },
  {
   "cell_type": "code",
   "execution_count": 148,
   "metadata": {
    "execution": {
     "iopub.execute_input": "2022-01-12T01:08:30.935517Z",
     "iopub.status.busy": "2022-01-12T01:08:30.935279Z",
     "iopub.status.idle": "2022-01-12T01:08:30.945017Z",
     "shell.execute_reply": "2022-01-12T01:08:30.944185Z",
     "shell.execute_reply.started": "2022-01-12T01:08:30.935486Z"
    }
   },
   "outputs": [],
   "source": [
    "optimizer = tf.keras.optimizers.Adam(0.01)\n",
    "model.compile(loss='MAPE',optimizer=optimizer, metrics=['MAPE'])"
   ]
  },
  {
   "cell_type": "code",
   "execution_count": 149,
   "metadata": {
    "execution": {
     "iopub.execute_input": "2022-01-12T01:08:30.947117Z",
     "iopub.status.busy": "2022-01-12T01:08:30.946307Z",
     "iopub.status.idle": "2022-01-12T01:08:37.748007Z",
     "shell.execute_reply": "2022-01-12T01:08:37.747214Z",
     "shell.execute_reply.started": "2022-01-12T01:08:30.947069Z"
    }
   },
   "outputs": [],
   "source": [
    "history = model.fit([X_train, X_train.productionDate.values], y_train,\n",
    "                    batch_size=512,\n",
    "                    epochs=500, # фактически мы обучаем пока EarlyStopping не остановит обучение\n",
    "                    validation_data=([X_test, X_test.productionDate.values], y_test),\n",
    "                    callbacks=callbacks_list\n",
    "                   )"
   ]
  },
  {
   "cell_type": "code",
   "execution_count": 152,
   "metadata": {
    "execution": {
     "iopub.execute_input": "2022-01-12T01:15:26.099736Z",
     "iopub.status.busy": "2022-01-12T01:15:26.098894Z",
     "iopub.status.idle": "2022-01-12T01:15:26.105616Z",
     "shell.execute_reply": "2022-01-12T01:15:26.104801Z",
     "shell.execute_reply.started": "2022-01-12T01:15:26.099698Z"
    }
   },
   "outputs": [],
   "source": [
    "'''\n",
    "model.load_weights('../working/best_model.hdf5')\n",
    "test_predict_nn_bonus = model.predict([X_test, X_test.productionDate.values])\n",
    "print(f\"TEST mape: {(mape(y_test, test_predict_nn_bonus[:,0]))*100:0.2f}%\")\n",
    "'''"
   ]
  }
 ],
 "metadata": {
  "kernelspec": {
   "display_name": "Python 3",
   "language": "python",
   "name": "python3"
  },
  "language_info": {
   "codemirror_mode": {
    "name": "ipython",
    "version": 3
   },
   "file_extension": ".py",
   "mimetype": "text/x-python",
   "name": "python",
   "nbconvert_exporter": "python",
   "pygments_lexer": "ipython3",
   "version": "3.8.8"
  }
 },
 "nbformat": 4,
 "nbformat_minor": 4
}
